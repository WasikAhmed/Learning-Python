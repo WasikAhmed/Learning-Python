{
 "cells": [
  {
   "cell_type": "markdown",
   "id": "609e9624-2d94-41f1-b5fe-1c848d2ad6c6",
   "metadata": {},
   "source": [
    "# Loops in Python"
   ]
  },
  {
   "cell_type": "markdown",
   "id": "88535bdc-56b2-4aca-93b2-01a849727658",
   "metadata": {},
   "source": [
    "- **`while` loop**\n",
    "- **`for` loop**"
   ]
  },
  {
   "cell_type": "markdown",
   "id": "fd140068-c9ea-425b-ade1-a860ef775248",
   "metadata": {},
   "source": [
    "### while loop"
   ]
  },
  {
   "cell_type": "code",
   "execution_count": null,
   "id": "3ba2d4ec-95f3-45cd-af39-90e211d5b468",
   "metadata": {},
   "outputs": [],
   "source": [
    "# while condition:\n",
    "    # Code block to be executed as long as the condition "
   ]
  },
  {
   "cell_type": "code",
   "execution_count": 5,
   "id": "01b33a45-af1f-41ee-8dd3-7b6b6f6dd3c7",
   "metadata": {},
   "outputs": [
    {
     "name": "stdout",
     "output_type": "stream",
     "text": [
      "1 2 3 4 5 6 7 8 9 10 "
     ]
    }
   ],
   "source": [
    "x = 1\n",
    "while x <= 10:\n",
    "    print(x, end=' ')\n",
    "    x += 1"
   ]
  },
  {
   "cell_type": "code",
   "execution_count": 6,
   "id": "52d54fa3-28e2-479a-891d-5fe8cea6d5a8",
   "metadata": {},
   "outputs": [
    {
     "name": "stdout",
     "output_type": "stream",
     "text": [
      "Sum of numbers from 1 to 100:  5050\n"
     ]
    }
   ],
   "source": [
    "# Calculate the sum of numbers from 1 to 100\n",
    "\n",
    "total = 0\n",
    "current_number = 1\n",
    "while current_number <= 100:\n",
    "    total += current_number\n",
    "    current_number += 1\n",
    "print(\"Sum of numbers from 1 to 100: \", total)"
   ]
  },
  {
   "cell_type": "code",
   "execution_count": 7,
   "id": "62199f5c-d329-4972-a308-8bd5d022e245",
   "metadata": {},
   "outputs": [
    {
     "name": "stdin",
     "output_type": "stream",
     "text": [
      "Enter a positive number:  -18\n",
      "Enter a positive number:  20\n"
     ]
    },
    {
     "name": "stdout",
     "output_type": "stream",
     "text": [
      "You entered: 20\n"
     ]
    }
   ],
   "source": [
    "# Get a positive number from the user\n",
    "user_input = -1\n",
    "\n",
    "while user_input <= 0:\n",
    "    user_input = int(input(\"Enter a positive number: \"))\n",
    "    \n",
    "print(\"You entered:\", user_input)"
   ]
  },
  {
   "cell_type": "code",
   "execution_count": 10,
   "id": "b05a5566-4c49-4c37-bd9d-814766f19129",
   "metadata": {},
   "outputs": [
    {
     "name": "stdin",
     "output_type": "stream",
     "text": [
      "Enter a positive number:  5\n"
     ]
    },
    {
     "name": "stdout",
     "output_type": "stream",
     "text": [
      "Factorial: 120\n"
     ]
    }
   ],
   "source": [
    "# Calculate the factorial of a number\n",
    "\n",
    "number = int(input(\"Enter a positive number: \"))\n",
    "result = 1\n",
    "while number > 0:\n",
    "    result *= number\n",
    "    number -= 1\n",
    "print(\"Factorial:\", result)"
   ]
  }
 ],
 "metadata": {
  "kernelspec": {
   "display_name": "Python 3 (ipykernel)",
   "language": "python",
   "name": "python3"
  },
  "language_info": {
   "codemirror_mode": {
    "name": "ipython",
    "version": 3
   },
   "file_extension": ".py",
   "mimetype": "text/x-python",
   "name": "python",
   "nbconvert_exporter": "python",
   "pygments_lexer": "ipython3",
   "version": "3.12.0"
  }
 },
 "nbformat": 4,
 "nbformat_minor": 5
}
