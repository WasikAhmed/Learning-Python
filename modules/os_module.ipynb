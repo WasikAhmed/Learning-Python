{
 "cells": [
  {
   "cell_type": "markdown",
   "source": [
    "# Python OS Module\n",
    "The **OS module** in Python provides functions for interacting with the operating system."
   ],
   "metadata": {
    "collapsed": false
   },
   "id": "91e25ea38d7e944d"
  },
  {
   "cell_type": "markdown",
   "source": [
    "## Importing module"
   ],
   "metadata": {
    "collapsed": false
   },
   "id": "3a5e4d399795e9bc"
  },
  {
   "cell_type": "code",
   "outputs": [
    {
     "data": {
      "text/plain": "<module 'os' (frozen)>"
     },
     "execution_count": 1,
     "metadata": {},
     "output_type": "execute_result"
    }
   ],
   "source": [
    "import os\n",
    "\n",
    "os"
   ],
   "metadata": {
    "collapsed": false,
    "ExecuteTime": {
     "end_time": "2024-07-01T16:56:43.386938Z",
     "start_time": "2024-07-01T16:56:43.379376Z"
    }
   },
   "id": "74b20f2166d7230c",
   "execution_count": 1
  },
  {
   "cell_type": "markdown",
   "source": [
    "## 1. File and Directory Operations\n",
    "- `os.open()`\n",
    "- `os.close()`\n",
    "- `os.closerange()`\n",
    "- `os.listdir()`\n",
    "- `os.mkdir()`\n",
    "- `os.makedirs()`\n",
    "- `os.rmdir()`\n",
    "- `os.removedirs()`\n",
    "- `os.rename()`\n",
    "- `os.replace()`\n",
    "- `os.renames()`\n",
    "- `os.remove()`\n",
    "- `os.unlink()`\n",
    "- `os.path.exists()`\n",
    "- `os.path.isdir()`\n",
    "- `os.path.isfile()`\n",
    "- `os.path.islink()`\n",
    "- `os.path.ismount()`\n",
    "- `os.path.join()`\n",
    "- `os.path.split()`\n",
    "- `os.path.splitext()`\n",
    "- `os.path.basename()`\n",
    "- `os.path.dirname()`\n",
    "- `os.path.getsize()`\n",
    "- `os.path.getmtime()`\n",
    "- `os.path.getatime()`\n",
    "- `os.path.getctime()`"
   ],
   "metadata": {
    "collapsed": false
   },
   "id": "d60bf26c44e35a9c"
  },
  {
   "cell_type": "markdown",
   "source": [
    "### 1.1 Creating Directories"
   ],
   "metadata": {
    "collapsed": false
   },
   "id": "993f69b3a85b918"
  },
  {
   "cell_type": "markdown",
   "source": [
    "Checking path existence"
   ],
   "metadata": {
    "collapsed": false
   },
   "id": "1765e1d2a94db05b"
  },
  {
   "cell_type": "code",
   "outputs": [
    {
     "data": {
      "text/plain": "True"
     },
     "execution_count": 2,
     "metadata": {},
     "output_type": "execute_result"
    }
   ],
   "source": [
    "directory = 'os_module_test_dir'\n",
    "os.path.exists(directory)"
   ],
   "metadata": {
    "collapsed": false,
    "ExecuteTime": {
     "end_time": "2024-07-01T16:56:43.392055Z",
     "start_time": "2024-07-01T16:56:43.389029Z"
    }
   },
   "id": "68425b526225a120",
   "execution_count": 2
  },
  {
   "cell_type": "markdown",
   "source": [
    "Creating a single directory\n",
    "\n",
    "`os.mkdir()` creates a single directory."
   ],
   "metadata": {
    "collapsed": false
   },
   "id": "51891101162eed8e"
  },
  {
   "cell_type": "code",
   "outputs": [
    {
     "name": "stdout",
     "output_type": "stream",
     "text": [
      "Directory already exists.\n"
     ]
    }
   ],
   "source": [
    "directory = 'os_module_test_dir'\n",
    "if not os.path.exists(directory):\n",
    "    os.mkdir(directory)\n",
    "else:\n",
    "    print(f'Directory already exists.')"
   ],
   "metadata": {
    "collapsed": false,
    "ExecuteTime": {
     "end_time": "2024-07-01T16:56:43.398195Z",
     "start_time": "2024-07-01T16:56:43.393958Z"
    }
   },
   "id": "c7fdd3db69975288",
   "execution_count": 3
  },
  {
   "cell_type": "markdown",
   "source": [
    "Creating multiple directories\n",
    "\n",
    "`os.makedirs()` creates multiple directories, including parent directories if they don't exist."
   ],
   "metadata": {
    "collapsed": false
   },
   "id": "91fe817b14df1f1f"
  },
  {
   "cell_type": "code",
   "outputs": [
    {
     "name": "stdout",
     "output_type": "stream",
     "text": [
      "Directory already exists.\n"
     ]
    }
   ],
   "source": [
    "directory = 'os_module_test_dir/parent_dir/child_dir'\n",
    "if not os.path.exists(directory):\n",
    "    os.makedirs(directory)\n",
    "else:\n",
    "    print('Directory already exists.')"
   ],
   "metadata": {
    "collapsed": false,
    "ExecuteTime": {
     "end_time": "2024-07-01T16:56:43.404058Z",
     "start_time": "2024-07-01T16:56:43.401129Z"
    }
   },
   "id": "6646139fc9463aaf",
   "execution_count": 4
  }
 ],
 "metadata": {
  "kernelspec": {
   "display_name": "Python 3",
   "language": "python",
   "name": "python3"
  },
  "language_info": {
   "codemirror_mode": {
    "name": "ipython",
    "version": 2
   },
   "file_extension": ".py",
   "mimetype": "text/x-python",
   "name": "python",
   "nbconvert_exporter": "python",
   "pygments_lexer": "ipython2",
   "version": "2.7.6"
  }
 },
 "nbformat": 4,
 "nbformat_minor": 5
}
