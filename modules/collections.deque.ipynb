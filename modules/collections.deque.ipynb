{
 "cells": [
  {
   "metadata": {},
   "cell_type": "markdown",
   "source": [
    "# **collections.deque** module\n",
    "\n",
    "A list-like sequence optimized for data accesses near its endpoints."
   ],
   "id": "3876854808bc4b47"
  },
  {
   "metadata": {},
   "cell_type": "markdown",
   "source": "## Import module",
   "id": "7c46cb85da521297"
  },
  {
   "metadata": {
    "ExecuteTime": {
     "end_time": "2024-07-20T17:55:46.059582Z",
     "start_time": "2024-07-20T17:55:46.055759Z"
    }
   },
   "cell_type": "code",
   "source": "from collections import deque",
   "id": "a1538441d213482",
   "outputs": [],
   "execution_count": 1
  },
  {
   "metadata": {},
   "cell_type": "markdown",
   "source": [
    "## Methods\n",
    "\n",
    "- **`append(...)`** -> Add an element to the right side of the deque.\n",
    "- **`appendleft(...)`** -> Add an element to the left side of the deque.\n",
    "- **`clear(...)`** -> Remove all elements from the deque.\n",
    "- **`copy(...)`** -> Return a shallow copy of a deque.\n",
    "- **`count(...)`** -> D.count(value) -- return number of occurrences of value.\n",
    "- **`extend(...)`** -> Extend the right side of the deque with elements from the iterable.\n",
    "- **`extendleft(...)`** -> Extend the left side of the deque with elements from the iterable\n",
    "- **`index(...)`**  -> D.index(value, [start, [stop]]) -- return first index of value. Raises ValueError if the value is not present.\n",
    "- **`insert(...)`** -> D.insert(index, object) -- insert object before index.\n",
    "- **`pop(...)`**    -> Remove and return the rightmost element.\n",
    "- **`popleft(...)`**    -> Remove and return the leftmost element.\n",
    "- **`remove(...)`** -> D.remove(value) -- remove first occurrence of value.\n",
    "- **`reverse(...)`**    -> D.reverse() -- reverse _IN PLACE_.\n",
    "- **`rotate(...)`** -> Rotate the deque n steps to the right (default n=1).  If n is negative, rotates left."
   ],
   "id": "fcffd08ca70da376"
  },
  {
   "metadata": {},
   "cell_type": "markdown",
   "source": "## Creating **deque**",
   "id": "8b9ad95f442725dc"
  },
  {
   "metadata": {
    "ExecuteTime": {
     "end_time": "2024-07-20T17:55:46.091508Z",
     "start_time": "2024-07-20T17:55:46.087056Z"
    }
   },
   "cell_type": "code",
   "source": [
    "d = deque()\n",
    "d, type(d)"
   ],
   "id": "ec5aa89465e83fb2",
   "outputs": [
    {
     "data": {
      "text/plain": [
       "(deque([]), collections.deque)"
      ]
     },
     "execution_count": 2,
     "metadata": {},
     "output_type": "execute_result"
    }
   ],
   "execution_count": 2
  },
  {
   "metadata": {
    "ExecuteTime": {
     "end_time": "2024-07-20T17:55:46.102439Z",
     "start_time": "2024-07-20T17:55:46.099004Z"
    }
   },
   "cell_type": "code",
   "source": [
    "# creating deque from list\n",
    "l = [10, 20, 30, 40, 50]\n",
    "d = deque(l)\n",
    "d, type(d)"
   ],
   "id": "ba265e561ad28937",
   "outputs": [
    {
     "data": {
      "text/plain": [
       "(deque([10, 20, 30, 40, 50]), collections.deque)"
      ]
     },
     "execution_count": 3,
     "metadata": {},
     "output_type": "execute_result"
    }
   ],
   "execution_count": 3
  },
  {
   "metadata": {
    "ExecuteTime": {
     "end_time": "2024-07-20T17:55:46.109171Z",
     "start_time": "2024-07-20T17:55:46.105198Z"
    }
   },
   "cell_type": "code",
   "source": [
    "# creating deque from dict.keys()\n",
    "dictionary = {'a': 10, 'b': 20, 'c': 30, 'd': 40, 'e': 50}\n",
    "d = deque(dictionary)\n",
    "d"
   ],
   "id": "834ee8aad7f5d4c6",
   "outputs": [
    {
     "data": {
      "text/plain": [
       "deque(['a', 'b', 'c', 'd', 'e'])"
      ]
     },
     "execution_count": 4,
     "metadata": {},
     "output_type": "execute_result"
    }
   ],
   "execution_count": 4
  },
  {
   "metadata": {
    "ExecuteTime": {
     "end_time": "2024-07-20T17:55:46.115082Z",
     "start_time": "2024-07-20T17:55:46.111502Z"
    }
   },
   "cell_type": "code",
   "source": [
    "# creating deque from dict.values()\n",
    "dictionary = {'a': 60, 'b': 20, 'c': 30, 'd': 40, 'e': 50}\n",
    "d = deque(dictionary.values())\n",
    "d"
   ],
   "id": "542c5811446efe6d",
   "outputs": [
    {
     "data": {
      "text/plain": [
       "deque([60, 20, 30, 40, 50])"
      ]
     },
     "execution_count": 5,
     "metadata": {},
     "output_type": "execute_result"
    }
   ],
   "execution_count": 5
  },
  {
   "metadata": {
    "ExecuteTime": {
     "end_time": "2024-07-20T17:55:46.137327Z",
     "start_time": "2024-07-20T17:55:46.134288Z"
    }
   },
   "cell_type": "code",
   "source": [
    "# creating deque from set\n",
    "s = {10, 20, 30, 40, 50, 100, 200}\n",
    "d = deque(s)\n",
    "s, d"
   ],
   "id": "1d5c7b5af267ce08",
   "outputs": [
    {
     "data": {
      "text/plain": [
       "({10, 20, 30, 40, 50, 100, 200}, deque([50, 100, 20, 40, 10, 30, 200]))"
      ]
     },
     "execution_count": 6,
     "metadata": {},
     "output_type": "execute_result"
    }
   ],
   "execution_count": 6
  },
  {
   "metadata": {
    "ExecuteTime": {
     "end_time": "2024-07-20T17:55:46.150932Z",
     "start_time": "2024-07-20T17:55:46.148338Z"
    }
   },
   "cell_type": "code",
   "source": [
    "# creating deque from tuple\n",
    "t = (10, 20)\n",
    "d = deque(t)\n",
    "d"
   ],
   "id": "11c6f38fafe21c6f",
   "outputs": [
    {
     "data": {
      "text/plain": [
       "deque([10, 20])"
      ]
     },
     "execution_count": 7,
     "metadata": {},
     "output_type": "execute_result"
    }
   ],
   "execution_count": 7
  },
  {
   "metadata": {
    "ExecuteTime": {
     "end_time": "2024-07-20T17:55:46.162892Z",
     "start_time": "2024-07-20T17:55:46.160043Z"
    }
   },
   "cell_type": "code",
   "source": [
    "# creating deque from list of tuples\n",
    "l = [(10, 20), (30, 40), (50, 60)]\n",
    "d = deque(l)\n",
    "d"
   ],
   "id": "b11c26a57c2a0621",
   "outputs": [
    {
     "data": {
      "text/plain": [
       "deque([(10, 20), (30, 40), (50, 60)])"
      ]
     },
     "execution_count": 8,
     "metadata": {},
     "output_type": "execute_result"
    }
   ],
   "execution_count": 8
  },
  {
   "metadata": {},
   "cell_type": "markdown",
   "source": "## **`append(...)`**",
   "id": "7f91bedb70cb4af0"
  },
  {
   "metadata": {
    "ExecuteTime": {
     "end_time": "2024-07-20T17:55:46.185652Z",
     "start_time": "2024-07-20T17:55:46.182865Z"
    }
   },
   "cell_type": "code",
   "source": [
    "d.append(10)\n",
    "d.append(20)\n",
    "d.append(30)\n",
    "d"
   ],
   "id": "22275ba17df49d12",
   "outputs": [
    {
     "data": {
      "text/plain": [
       "deque([(10, 20), (30, 40), (50, 60), 10, 20, 30])"
      ]
     },
     "execution_count": 9,
     "metadata": {},
     "output_type": "execute_result"
    }
   ],
   "execution_count": 9
  },
  {
   "metadata": {},
   "cell_type": "markdown",
   "source": "## **`appendleft(...)`**",
   "id": "7ae57b432affe301"
  },
  {
   "metadata": {
    "ExecuteTime": {
     "end_time": "2024-07-20T17:55:46.190572Z",
     "start_time": "2024-07-20T17:55:46.187385Z"
    }
   },
   "cell_type": "code",
   "source": [
    "d = deque()\n",
    "d.appendleft(40)\n",
    "d.appendleft(50)\n",
    "d.appendleft(60)\n",
    "d"
   ],
   "id": "ee6f7e9f1c98df8",
   "outputs": [
    {
     "data": {
      "text/plain": [
       "deque([60, 50, 40])"
      ]
     },
     "execution_count": 10,
     "metadata": {},
     "output_type": "execute_result"
    }
   ],
   "execution_count": 10
  },
  {
   "metadata": {},
   "cell_type": "markdown",
   "source": "## **`clear(...)`**",
   "id": "973fa2d7a879b324"
  },
  {
   "metadata": {
    "ExecuteTime": {
     "end_time": "2024-07-20T17:55:46.197726Z",
     "start_time": "2024-07-20T17:55:46.194732Z"
    }
   },
   "cell_type": "code",
   "source": [
    "d = deque([20, 40, 60])\n",
    "print(d)\n",
    "d.clear()\n",
    "d"
   ],
   "id": "91dae33e07dac35b",
   "outputs": [
    {
     "name": "stdout",
     "output_type": "stream",
     "text": [
      "deque([20, 40, 60])\n"
     ]
    },
    {
     "data": {
      "text/plain": [
       "deque([])"
      ]
     },
     "execution_count": 11,
     "metadata": {},
     "output_type": "execute_result"
    }
   ],
   "execution_count": 11
  },
  {
   "metadata": {},
   "cell_type": "markdown",
   "source": "## **`copy(...)`**",
   "id": "9ead9316e4237989"
  },
  {
   "metadata": {
    "ExecuteTime": {
     "end_time": "2024-07-20T17:55:46.202741Z",
     "start_time": "2024-07-20T17:55:46.199209Z"
    }
   },
   "cell_type": "code",
   "source": [
    "d = deque([100, 200, 300, 400, 500])\n",
    "copy_d = d.copy()\n",
    "d, copy_d"
   ],
   "id": "c296947c295c0cf3",
   "outputs": [
    {
     "data": {
      "text/plain": [
       "(deque([100, 200, 300, 400, 500]), deque([100, 200, 300, 400, 500]))"
      ]
     },
     "execution_count": 12,
     "metadata": {},
     "output_type": "execute_result"
    }
   ],
   "execution_count": 12
  }
 ],
 "metadata": {
  "kernelspec": {
   "display_name": "Python 3",
   "language": "python",
   "name": "python3"
  },
  "language_info": {
   "codemirror_mode": {
    "name": "ipython",
    "version": 2
   },
   "file_extension": ".py",
   "mimetype": "text/x-python",
   "name": "python",
   "nbconvert_exporter": "python",
   "pygments_lexer": "ipython2",
   "version": "2.7.6"
  }
 },
 "nbformat": 4,
 "nbformat_minor": 5
}
