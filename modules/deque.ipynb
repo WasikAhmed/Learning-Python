{
 "cells": [
  {
   "metadata": {},
   "cell_type": "markdown",
   "source": [
    "# **collections.deque** Module\n",
    "\n",
    "A list-like sequence optimized for data accesses near its endpoints."
   ],
   "id": "3876854808bc4b47"
  },
  {
   "metadata": {},
   "cell_type": "markdown",
   "source": "## Import module",
   "id": "7c46cb85da521297"
  },
  {
   "metadata": {
    "ExecuteTime": {
     "end_time": "2024-07-21T17:16:37.763214Z",
     "start_time": "2024-07-21T17:16:37.760884Z"
    }
   },
   "cell_type": "code",
   "source": "from collections import deque",
   "id": "a1538441d213482",
   "outputs": [],
   "execution_count": 1
  },
  {
   "metadata": {},
   "cell_type": "markdown",
   "source": [
    "## Methods\n",
    "\n",
    "- **`append(...)`** -> Add an element to the right side of the deque.\n",
    "- **`appendleft(...)`** -> Add an element to the left side of the deque.\n",
    "- **`clear(...)`** -> Remove all elements from the deque.\n",
    "- **`copy(...)`** -> Return a shallow copy of a deque.\n",
    "- **`count(...)`** -> D.count(value) -- return number of occurrences of value.\n",
    "- **`extend(...)`** -> Extend the right side of the deque with elements from the iterable.\n",
    "- **`extendleft(...)`** -> Extend the left side of the deque with elements from the iterable\n",
    "- **`index(...)`**  -> D.index(value, [start, [stop]]) -- return first index of value. Raises ValueError if the value is not present.\n",
    "- **`insert(...)`** -> D.insert(index, object) -- insert object before index.\n",
    "- **`pop(...)`**    -> Remove and return the rightmost element.\n",
    "- **`popleft(...)`**    -> Remove and return the leftmost element.\n",
    "- **`remove(...)`** -> D.remove(value) -- remove first occurrence of value.\n",
    "- **`reverse(...)`**    -> D.reverse() -- reverse _IN PLACE_.\n",
    "- **`rotate(...)`** -> Rotate the deque n steps to the right (default n=1).  If n is negative, rotates left."
   ],
   "id": "fcffd08ca70da376"
  },
  {
   "metadata": {},
   "cell_type": "markdown",
   "source": "## Creating **deque**",
   "id": "8b9ad95f442725dc"
  },
  {
   "metadata": {
    "ExecuteTime": {
     "end_time": "2024-07-21T17:16:37.767355Z",
     "start_time": "2024-07-21T17:16:37.764133Z"
    }
   },
   "cell_type": "code",
   "source": [
    "d = deque()\n",
    "d, type(d)"
   ],
   "id": "ec5aa89465e83fb2",
   "outputs": [
    {
     "data": {
      "text/plain": [
       "(deque([]), collections.deque)"
      ]
     },
     "execution_count": 2,
     "metadata": {},
     "output_type": "execute_result"
    }
   ],
   "execution_count": 2
  },
  {
   "metadata": {
    "ExecuteTime": {
     "end_time": "2024-07-21T17:16:37.770039Z",
     "start_time": "2024-07-21T17:16:37.767872Z"
    }
   },
   "cell_type": "code",
   "source": [
    "# creating deque from list\n",
    "l = [10, 20, 30, 40, 50]\n",
    "d = deque(l)\n",
    "d, type(d)"
   ],
   "id": "ba265e561ad28937",
   "outputs": [
    {
     "data": {
      "text/plain": [
       "(deque([10, 20, 30, 40, 50]), collections.deque)"
      ]
     },
     "execution_count": 3,
     "metadata": {},
     "output_type": "execute_result"
    }
   ],
   "execution_count": 3
  },
  {
   "metadata": {
    "ExecuteTime": {
     "end_time": "2024-07-21T17:16:37.773109Z",
     "start_time": "2024-07-21T17:16:37.770781Z"
    }
   },
   "cell_type": "code",
   "source": [
    "# creating deque from dict.keys()\n",
    "dictionary = {'a': 10, 'b': 20, 'c': 30, 'd': 40, 'e': 50}\n",
    "d = deque(dictionary)\n",
    "d"
   ],
   "id": "834ee8aad7f5d4c6",
   "outputs": [
    {
     "data": {
      "text/plain": [
       "deque(['a', 'b', 'c', 'd', 'e'])"
      ]
     },
     "execution_count": 4,
     "metadata": {},
     "output_type": "execute_result"
    }
   ],
   "execution_count": 4
  },
  {
   "metadata": {
    "ExecuteTime": {
     "end_time": "2024-07-21T17:16:37.777287Z",
     "start_time": "2024-07-21T17:16:37.774437Z"
    }
   },
   "cell_type": "code",
   "source": [
    "# creating deque from dict.values()\n",
    "dictionary = {'a': 60, 'b': 20, 'c': 30, 'd': 40, 'e': 50}\n",
    "d = deque(dictionary.values())\n",
    "d"
   ],
   "id": "542c5811446efe6d",
   "outputs": [
    {
     "data": {
      "text/plain": [
       "deque([60, 20, 30, 40, 50])"
      ]
     },
     "execution_count": 5,
     "metadata": {},
     "output_type": "execute_result"
    }
   ],
   "execution_count": 5
  },
  {
   "metadata": {
    "ExecuteTime": {
     "end_time": "2024-07-21T17:16:37.779947Z",
     "start_time": "2024-07-21T17:16:37.777871Z"
    }
   },
   "cell_type": "code",
   "source": [
    "# creating deque from set\n",
    "s = {10, 20, 30, 40, 50, 100, 200}\n",
    "d = deque(s)\n",
    "s, d"
   ],
   "id": "1d5c7b5af267ce08",
   "outputs": [
    {
     "data": {
      "text/plain": [
       "({10, 20, 30, 40, 50, 100, 200}, deque([50, 100, 20, 40, 10, 30, 200]))"
      ]
     },
     "execution_count": 6,
     "metadata": {},
     "output_type": "execute_result"
    }
   ],
   "execution_count": 6
  },
  {
   "metadata": {
    "ExecuteTime": {
     "end_time": "2024-07-21T17:16:37.782910Z",
     "start_time": "2024-07-21T17:16:37.780573Z"
    }
   },
   "cell_type": "code",
   "source": [
    "# creating deque from tuple\n",
    "t = (10, 20)\n",
    "d = deque(t)\n",
    "d"
   ],
   "id": "11c6f38fafe21c6f",
   "outputs": [
    {
     "data": {
      "text/plain": [
       "deque([10, 20])"
      ]
     },
     "execution_count": 7,
     "metadata": {},
     "output_type": "execute_result"
    }
   ],
   "execution_count": 7
  },
  {
   "metadata": {
    "ExecuteTime": {
     "end_time": "2024-07-21T17:16:37.786216Z",
     "start_time": "2024-07-21T17:16:37.784048Z"
    }
   },
   "cell_type": "code",
   "source": [
    "# creating deque from list of tuples\n",
    "l = [(10, 20), (30, 40), (50, 60)]\n",
    "d = deque(l)\n",
    "d"
   ],
   "id": "b11c26a57c2a0621",
   "outputs": [
    {
     "data": {
      "text/plain": [
       "deque([(10, 20), (30, 40), (50, 60)])"
      ]
     },
     "execution_count": 8,
     "metadata": {},
     "output_type": "execute_result"
    }
   ],
   "execution_count": 8
  },
  {
   "metadata": {},
   "cell_type": "markdown",
   "source": "## **`append(...)`**",
   "id": "7f91bedb70cb4af0"
  },
  {
   "metadata": {
    "ExecuteTime": {
     "end_time": "2024-07-21T17:16:37.789367Z",
     "start_time": "2024-07-21T17:16:37.787067Z"
    }
   },
   "cell_type": "code",
   "source": [
    "d.append(10)\n",
    "d.append(20)\n",
    "d.append(30)\n",
    "d"
   ],
   "id": "22275ba17df49d12",
   "outputs": [
    {
     "data": {
      "text/plain": [
       "deque([(10, 20), (30, 40), (50, 60), 10, 20, 30])"
      ]
     },
     "execution_count": 9,
     "metadata": {},
     "output_type": "execute_result"
    }
   ],
   "execution_count": 9
  },
  {
   "metadata": {},
   "cell_type": "markdown",
   "source": "## **`appendleft(...)`**",
   "id": "7ae57b432affe301"
  },
  {
   "metadata": {
    "ExecuteTime": {
     "end_time": "2024-07-21T17:16:37.821254Z",
     "start_time": "2024-07-21T17:16:37.818821Z"
    }
   },
   "cell_type": "code",
   "source": [
    "d = deque()\n",
    "d.appendleft(40)\n",
    "d.appendleft(50)\n",
    "d.appendleft(60)\n",
    "d"
   ],
   "id": "ee6f7e9f1c98df8",
   "outputs": [
    {
     "data": {
      "text/plain": [
       "deque([60, 50, 40])"
      ]
     },
     "execution_count": 10,
     "metadata": {},
     "output_type": "execute_result"
    }
   ],
   "execution_count": 10
  },
  {
   "metadata": {},
   "cell_type": "markdown",
   "source": "## **`clear(...)`**",
   "id": "973fa2d7a879b324"
  },
  {
   "metadata": {
    "ExecuteTime": {
     "end_time": "2024-07-21T17:16:37.839129Z",
     "start_time": "2024-07-21T17:16:37.835656Z"
    }
   },
   "cell_type": "code",
   "source": [
    "d = deque([20, 40, 60])\n",
    "print(d)\n",
    "d.clear()\n",
    "d"
   ],
   "id": "91dae33e07dac35b",
   "outputs": [
    {
     "name": "stdout",
     "output_type": "stream",
     "text": [
      "deque([20, 40, 60])\n"
     ]
    },
    {
     "data": {
      "text/plain": [
       "deque([])"
      ]
     },
     "execution_count": 11,
     "metadata": {},
     "output_type": "execute_result"
    }
   ],
   "execution_count": 11
  },
  {
   "metadata": {},
   "cell_type": "markdown",
   "source": "## **`copy(...)`**",
   "id": "9ead9316e4237989"
  },
  {
   "metadata": {
    "ExecuteTime": {
     "end_time": "2024-07-21T17:16:37.845259Z",
     "start_time": "2024-07-21T17:16:37.842671Z"
    }
   },
   "cell_type": "code",
   "source": [
    "d = deque([100, 200, 300, 400, 500])\n",
    "copy_d = d.copy()\n",
    "d, copy_d"
   ],
   "id": "c296947c295c0cf3",
   "outputs": [
    {
     "data": {
      "text/plain": [
       "(deque([100, 200, 300, 400, 500]), deque([100, 200, 300, 400, 500]))"
      ]
     },
     "execution_count": 12,
     "metadata": {},
     "output_type": "execute_result"
    }
   ],
   "execution_count": 12
  },
  {
   "metadata": {},
   "cell_type": "markdown",
   "source": "## **`count(...)`**",
   "id": "7275cca8813bb8ac"
  },
  {
   "metadata": {
    "ExecuteTime": {
     "end_time": "2024-07-21T17:16:37.914826Z",
     "start_time": "2024-07-21T17:16:37.912361Z"
    }
   },
   "cell_type": "code",
   "source": [
    "d = deque([10, 20, 30, 10, 40, 10, 50, 10])\n",
    "d.count(10)"
   ],
   "id": "c4f88c3e084e1dc7",
   "outputs": [
    {
     "data": {
      "text/plain": [
       "4"
      ]
     },
     "execution_count": 13,
     "metadata": {},
     "output_type": "execute_result"
    }
   ],
   "execution_count": 13
  },
  {
   "metadata": {},
   "cell_type": "markdown",
   "source": "## **`extend(...)`**",
   "id": "ab4a42744c4b7c9"
  },
  {
   "metadata": {
    "ExecuteTime": {
     "end_time": "2024-07-21T17:16:37.930243Z",
     "start_time": "2024-07-21T17:16:37.927736Z"
    }
   },
   "cell_type": "code",
   "source": [
    "d = deque([10, 20, 30])\n",
    "d.extend([40, 50, 60])\n",
    "d"
   ],
   "id": "d0485c507c65360e",
   "outputs": [
    {
     "data": {
      "text/plain": [
       "deque([10, 20, 30, 40, 50, 60])"
      ]
     },
     "execution_count": 14,
     "metadata": {},
     "output_type": "execute_result"
    }
   ],
   "execution_count": 14
  },
  {
   "metadata": {},
   "cell_type": "markdown",
   "source": "## **`extendleft(...)`**",
   "id": "5ef9755be235e12e"
  },
  {
   "metadata": {
    "ExecuteTime": {
     "end_time": "2024-07-21T17:16:37.953006Z",
     "start_time": "2024-07-21T17:16:37.950562Z"
    }
   },
   "cell_type": "code",
   "source": [
    "d = deque([10, 20, 30])\n",
    "d.extendleft([40, 50, 60])\n",
    "d"
   ],
   "id": "16df251a5f4fcd1f",
   "outputs": [
    {
     "data": {
      "text/plain": [
       "deque([60, 50, 40, 10, 20, 30])"
      ]
     },
     "execution_count": 15,
     "metadata": {},
     "output_type": "execute_result"
    }
   ],
   "execution_count": 15
  },
  {
   "metadata": {},
   "cell_type": "markdown",
   "source": "## **`index(...)`**",
   "id": "9a82238d592e4e8d"
  },
  {
   "metadata": {
    "ExecuteTime": {
     "end_time": "2024-07-21T17:16:37.963403Z",
     "start_time": "2024-07-21T17:16:37.960465Z"
    }
   },
   "cell_type": "code",
   "source": [
    "d = deque([10, 20, 30, 40, 20])\n",
    "d.index(20)"
   ],
   "id": "c00000eb4e0f9922",
   "outputs": [
    {
     "data": {
      "text/plain": [
       "1"
      ]
     },
     "execution_count": 16,
     "metadata": {},
     "output_type": "execute_result"
    }
   ],
   "execution_count": 16
  },
  {
   "metadata": {},
   "cell_type": "markdown",
   "source": "## **`insert(...)`**",
   "id": "5ef4b8ef52c5b171"
  },
  {
   "metadata": {
    "ExecuteTime": {
     "end_time": "2024-07-21T17:16:37.967993Z",
     "start_time": "2024-07-21T17:16:37.965011Z"
    }
   },
   "cell_type": "code",
   "source": [
    "d = deque([10, 20, 30, 40])\n",
    "d.insert(4, 100)\n",
    "d.insert(0, 200)\n",
    "d"
   ],
   "id": "b70911fba37f64b3",
   "outputs": [
    {
     "data": {
      "text/plain": [
       "deque([200, 10, 20, 30, 40, 100])"
      ]
     },
     "execution_count": 17,
     "metadata": {},
     "output_type": "execute_result"
    }
   ],
   "execution_count": 17
  },
  {
   "metadata": {},
   "cell_type": "markdown",
   "source": "## **`pop(...)`**",
   "id": "b74686fb222f7a5b"
  },
  {
   "metadata": {
    "ExecuteTime": {
     "end_time": "2024-07-21T17:16:37.977603Z",
     "start_time": "2024-07-21T17:16:37.974537Z"
    }
   },
   "cell_type": "code",
   "source": [
    "d = deque([10, 20, 30])\n",
    "popped = d.pop()\n",
    "d, popped"
   ],
   "id": "243fb0e6e5441fed",
   "outputs": [
    {
     "data": {
      "text/plain": [
       "(deque([10, 20]), 30)"
      ]
     },
     "execution_count": 18,
     "metadata": {},
     "output_type": "execute_result"
    }
   ],
   "execution_count": 18
  },
  {
   "metadata": {},
   "cell_type": "markdown",
   "source": "## **`popleft(...)`**",
   "id": "a912018ede25db9f"
  },
  {
   "metadata": {
    "ExecuteTime": {
     "end_time": "2024-07-21T17:16:38.024554Z",
     "start_time": "2024-07-21T17:16:38.022323Z"
    }
   },
   "cell_type": "code",
   "source": [
    "d = deque([10, 20, 30])\n",
    "popped = d.popleft()\n",
    "d, popped"
   ],
   "id": "a3b23d851baf1967",
   "outputs": [
    {
     "data": {
      "text/plain": [
       "(deque([20, 30]), 10)"
      ]
     },
     "execution_count": 19,
     "metadata": {},
     "output_type": "execute_result"
    }
   ],
   "execution_count": 19
  },
  {
   "metadata": {},
   "cell_type": "markdown",
   "source": "## **`remove(...)`**",
   "id": "ad594b03cae55b68"
  },
  {
   "metadata": {
    "ExecuteTime": {
     "end_time": "2024-07-21T17:16:38.036344Z",
     "start_time": "2024-07-21T17:16:38.034188Z"
    }
   },
   "cell_type": "code",
   "source": [
    "d = deque([10, 20, 30, 10])\n",
    "d.remove(10)\n",
    "d"
   ],
   "id": "d6e191fa086d55ca",
   "outputs": [
    {
     "data": {
      "text/plain": [
       "deque([20, 30, 10])"
      ]
     },
     "execution_count": 20,
     "metadata": {},
     "output_type": "execute_result"
    }
   ],
   "execution_count": 20
  },
  {
   "metadata": {},
   "cell_type": "markdown",
   "source": "## **`reverse(...)`**",
   "id": "9baea30b0b612079"
  },
  {
   "metadata": {
    "ExecuteTime": {
     "end_time": "2024-07-21T17:16:38.048191Z",
     "start_time": "2024-07-21T17:16:38.046054Z"
    }
   },
   "cell_type": "code",
   "source": [
    "d = deque([10, 20, 30, 40])\n",
    "d.reverse()\n",
    "d"
   ],
   "id": "f653cdef4576d61d",
   "outputs": [
    {
     "data": {
      "text/plain": [
       "deque([40, 30, 20, 10])"
      ]
     },
     "execution_count": 21,
     "metadata": {},
     "output_type": "execute_result"
    }
   ],
   "execution_count": 21
  },
  {
   "metadata": {},
   "cell_type": "markdown",
   "source": "## **`rotate(...)`**",
   "id": "80d31c87bb3600ef"
  },
  {
   "metadata": {
    "ExecuteTime": {
     "end_time": "2024-07-21T17:16:38.068443Z",
     "start_time": "2024-07-21T17:16:38.065777Z"
    }
   },
   "cell_type": "code",
   "source": [
    "d = deque([10, 20, 30, 40, 50])\n",
    "d.rotate(1)\n",
    "d"
   ],
   "id": "731ad517d7381a52",
   "outputs": [
    {
     "data": {
      "text/plain": [
       "deque([50, 10, 20, 30, 40])"
      ]
     },
     "execution_count": 22,
     "metadata": {},
     "output_type": "execute_result"
    }
   ],
   "execution_count": 22
  },
  {
   "metadata": {
    "ExecuteTime": {
     "end_time": "2024-07-21T17:16:38.072412Z",
     "start_time": "2024-07-21T17:16:38.069954Z"
    }
   },
   "cell_type": "code",
   "source": [
    "d = deque([10, 20, 30, 40, 50])\n",
    "d.rotate(3)\n",
    "d\n"
   ],
   "id": "cfad5534312d7ed5",
   "outputs": [
    {
     "data": {
      "text/plain": [
       "deque([30, 40, 50, 10, 20])"
      ]
     },
     "execution_count": 23,
     "metadata": {},
     "output_type": "execute_result"
    }
   ],
   "execution_count": 23
  },
  {
   "metadata": {
    "ExecuteTime": {
     "end_time": "2024-07-21T17:16:38.082279Z",
     "start_time": "2024-07-21T17:16:38.079594Z"
    }
   },
   "cell_type": "code",
   "source": [
    "d = deque([10, 20, 30, 40, 50])\n",
    "d.rotate(-2)\n",
    "d\n"
   ],
   "id": "affb45033f75e113",
   "outputs": [
    {
     "data": {
      "text/plain": [
       "deque([30, 40, 50, 10, 20])"
      ]
     },
     "execution_count": 24,
     "metadata": {},
     "output_type": "execute_result"
    }
   ],
   "execution_count": 24
  }
 ],
 "metadata": {
  "kernelspec": {
   "display_name": "Python 3",
   "language": "python",
   "name": "python3"
  },
  "language_info": {
   "codemirror_mode": {
    "name": "ipython",
    "version": 2
   },
   "file_extension": ".py",
   "mimetype": "text/x-python",
   "name": "python",
   "nbconvert_exporter": "python",
   "pygments_lexer": "ipython2",
   "version": "2.7.6"
  }
 },
 "nbformat": 4,
 "nbformat_minor": 5
}
