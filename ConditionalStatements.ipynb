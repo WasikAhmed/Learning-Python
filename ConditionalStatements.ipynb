{
 "cells": [
  {
   "cell_type": "markdown",
   "id": "c9b8ae8a-a85c-4899-a52c-b2600615cc61",
   "metadata": {},
   "source": [
    "# Conditional Statements"
   ]
  },
  {
   "cell_type": "markdown",
   "id": "7321e0e9-ead1-4cdc-9f6c-138bd97faf1e",
   "metadata": {},
   "source": [
    "- **`if statement` -> used to test specific condition and executes a block of code if true**\n",
    "- **`if-else` statement -> else statement will execute if the `if` statement if false**\n",
    "- **`elif` statement -> enables us to check multiple conditions and executes the block depending upon the true condition**"
   ]
  },
  {
   "cell_type": "markdown",
   "id": "1de0e8d0-b733-44d9-938f-a23e28efd3e9",
   "metadata": {},
   "source": [
    "### `if` statement"
   ]
  },
  {
   "cell_type": "code",
   "execution_count": 3,
   "id": "8ca0d182-0746-483a-9ec9-ed14c7e76f50",
   "metadata": {},
   "outputs": [
    {
     "name": "stdout",
     "output_type": "stream",
     "text": [
      "a is less than b\n"
     ]
    }
   ],
   "source": [
    "a = 10\n",
    "b = 20\n",
    "\n",
    "if a == b:\n",
    "    print(\"a is equal to b\")\n",
    "\n",
    "if a > b:\n",
    "    print(\"a is greater than b\")\n",
    "\n",
    "if a < b:\n",
    "    print(\"a is less than b\")"
   ]
  },
  {
   "cell_type": "markdown",
   "id": "f7d561db-8bfc-40dd-8b0e-35453da017d6",
   "metadata": {},
   "source": [
    "### `else` statement"
   ]
  },
  {
   "cell_type": "code",
   "execution_count": 8,
   "id": "15ef8b19-7ae3-411c-bf0f-e3b1ddc6855c",
   "metadata": {},
   "outputs": [
    {
     "name": "stdin",
     "output_type": "stream",
     "text": [
      "Please enter a number:  11\n"
     ]
    },
    {
     "name": "stdout",
     "output_type": "stream",
     "text": [
      "11 is odd number\n"
     ]
    }
   ],
   "source": [
    "# determine if a given number is even or odd\n",
    "\n",
    "a = int(input(\"Please enter a number: \"))\n",
    "\n",
    "if a % 2 == 0:\n",
    "    print(f\"{a} is even number\")\n",
    "else:\n",
    "    print(f\"{a} is odd number\")"
   ]
  },
  {
   "cell_type": "markdown",
   "id": "38ec8120-f4c8-4bd8-9268-1e198f40f5ff",
   "metadata": {},
   "source": [
    "### `elif` statement"
   ]
  },
  {
   "cell_type": "code",
   "execution_count": 10,
   "id": "b0e0c222-a84b-48e1-97ce-b205f5d7b408",
   "metadata": {},
   "outputs": [
    {
     "name": "stdin",
     "output_type": "stream",
     "text": [
      "Please enter a number:  25\n"
     ]
    },
    {
     "name": "stdout",
     "output_type": "stream",
     "text": [
      "25 is positive number\n"
     ]
    }
   ],
   "source": [
    "# determine if a given number is positive or negative\n",
    "\n",
    "x = int(input(\"Please enter a number: \"))\n",
    "\n",
    "if x == 0:\n",
    "    print(f\"{x} is neither positive nor negative\")\n",
    "elif x > 0:\n",
    "    print(f\"{x} is positive number\")\n",
    "else:\n",
    "    print(f\"{x} is negative number\")"
   ]
  },
  {
   "cell_type": "markdown",
   "id": "18391c07-211f-46df-902c-351889264247",
   "metadata": {},
   "source": [
    "**Create a program that takes a student's score as input and prints their grade.**"
   ]
  },
  {
   "cell_type": "code",
   "execution_count": 16,
   "id": "549a88c2-69ec-41bc-8a93-0ffcb56fd7ba",
   "metadata": {},
   "outputs": [
    {
     "name": "stdin",
     "output_type": "stream",
     "text": [
      "Please enter your score:  80\n"
     ]
    },
    {
     "name": "stdout",
     "output_type": "stream",
     "text": [
      "B+\n"
     ]
    }
   ],
   "source": [
    "score = int(input(\"Please enter your score: \"))\n",
    "\n",
    "# As per AIUB grading system\n",
    "\n",
    "if score > 100 or score < 0:\n",
    "    print(\"Invalid input\")\n",
    "elif score >= 90:\n",
    "    print(\"A+\")\n",
    "elif score >= 85:\n",
    "    print(\"A\")\n",
    "elif score >= 80:\n",
    "    print(\"B+\")\n",
    "elif score >= 75:\n",
    "    print(\"B\")\n",
    "elif score >= 70:\n",
    "    print(\"C+\")\n",
    "elif score >= 65:\n",
    "    print(\"C\")\n",
    "elif score >= 60:\n",
    "    print(\"D+\")\n",
    "elif score >= 50:\n",
    "    print(\"D\")\n",
    "else:\n",
    "    print(\"F\")"
   ]
  }
 ],
 "metadata": {
  "kernelspec": {
   "display_name": "Python 3 (ipykernel)",
   "language": "python",
   "name": "python3"
  },
  "language_info": {
   "codemirror_mode": {
    "name": "ipython",
    "version": 3
   },
   "file_extension": ".py",
   "mimetype": "text/x-python",
   "name": "python",
   "nbconvert_exporter": "python",
   "pygments_lexer": "ipython3",
   "version": "3.12.0"
  }
 },
 "nbformat": 4,
 "nbformat_minor": 5
}
