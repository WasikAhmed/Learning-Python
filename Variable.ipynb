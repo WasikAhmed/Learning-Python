{
 "cells": [
  {
   "cell_type": "markdown",
   "id": "02ff4ef5-b8cf-4cc5-bb93-a8711bfd8dfc",
   "metadata": {},
   "source": [
    "# Python Variables"
   ]
  },
  {
   "cell_type": "raw",
   "id": "e0883b26-878f-40fd-9084-19e36f08a63e",
   "metadata": {},
   "source": [
    "Variables are containers for storing data values.\n",
    "Python has no command for declaring a variable.\n",
    "Variable names are case-sensitive"
   ]
  },
  {
   "cell_type": "markdown",
   "id": "88a2735c-9d1a-4fcf-b3c6-99c188a9a34e",
   "metadata": {
    "tags": []
   },
   "source": [
    "### Declaring Variables"
   ]
  },
  {
   "cell_type": "code",
   "execution_count": 2,
   "id": "db9f6a1c-f4bd-40b1-b730-cff6d0a160a3",
   "metadata": {
    "tags": []
   },
   "outputs": [
    {
     "name": "stdout",
     "output_type": "stream",
     "text": [
      "4\n"
     ]
    }
   ],
   "source": [
    "a = 4 # int\n",
    "print(a)"
   ]
  },
  {
   "cell_type": "markdown",
   "id": "c5a690fe-1557-414d-a4dd-f811d81d783c",
   "metadata": {
    "tags": []
   },
   "source": [
    "### Print the datatype of variable using type() function"
   ]
  },
  {
   "cell_type": "code",
   "execution_count": 4,
   "id": "fe7f010a-ec48-4c3f-a9ff-13c8686d20a5",
   "metadata": {
    "tags": []
   },
   "outputs": [
    {
     "name": "stdout",
     "output_type": "stream",
     "text": [
      "<class 'int'>\n"
     ]
    }
   ],
   "source": [
    "print(type(a))"
   ]
  },
  {
   "cell_type": "code",
   "execution_count": 5,
   "id": "215fde13-416a-414f-96c0-66ae43f5ce41",
   "metadata": {
    "tags": []
   },
   "outputs": [],
   "source": [
    "b = 6.9 # decimal\n",
    "c = True # boolean\n",
    "d = \"10\" # string \n",
    "# String variables can be declared either by using single or double quotes"
   ]
  },
  {
   "cell_type": "code",
   "execution_count": 6,
   "id": "27d7ce44-9ea5-4cc7-a8e2-3b1b3042d9da",
   "metadata": {
    "tags": []
   },
   "outputs": [
    {
     "name": "stdout",
     "output_type": "stream",
     "text": [
      "<class 'float'>\n",
      "<class 'bool'>\n",
      "<class 'str'>\n"
     ]
    }
   ],
   "source": [
    "print(type(b))\n",
    "print(type(c))\n",
    "print(type(d))"
   ]
  },
  {
   "cell_type": "markdown",
   "id": "bf405a9f-6bb3-4b9c-b65d-2a5d9d5a913a",
   "metadata": {},
   "source": [
    "## Casting"
   ]
  },
  {
   "cell_type": "raw",
   "id": "f9f444d3-df22-4175-add9-dab9b30a3ec8",
   "metadata": {},
   "source": [
    "Casting, also known as type conversion, is a process that converts a variable's data type into another data type.\n",
    "Specify the data type of a variable using casting."
   ]
  },
  {
   "cell_type": "markdown",
   "id": "1e3cbce4-7407-4744-87d0-fa7445c67a29",
   "metadata": {},
   "source": [
    "##### Integer to string"
   ]
  },
  {
   "cell_type": "code",
   "execution_count": 7,
   "id": "92389106-d1a8-4d31-84a8-c289b457da94",
   "metadata": {
    "tags": []
   },
   "outputs": [
    {
     "name": "stdout",
     "output_type": "stream",
     "text": [
      "4\n",
      "<class 'str'>\n"
     ]
    }
   ],
   "source": [
    "x = str(a) # a = 4\n",
    "print(x)\n",
    "print(type(x))"
   ]
  },
  {
   "cell_type": "markdown",
   "id": "ce50fad6-a1c2-494b-a864-cbeaff2c674e",
   "metadata": {},
   "source": [
    "##### string to integer"
   ]
  },
  {
   "cell_type": "code",
   "execution_count": 8,
   "id": "18f9ed26-9c4e-4c13-8225-27e55acdc916",
   "metadata": {
    "tags": []
   },
   "outputs": [
    {
     "name": "stdout",
     "output_type": "stream",
     "text": [
      "10\n",
      "<class 'int'>\n"
     ]
    }
   ],
   "source": [
    "y = int(d) # d = \"10\"\n",
    "print(y)\n",
    "print(type(y))"
   ]
  },
  {
   "cell_type": "markdown",
   "id": "b03ad0fe-9114-4e86-a693-fbc627b0c72f",
   "metadata": {},
   "source": [
    "##### float to integer"
   ]
  },
  {
   "cell_type": "raw",
   "id": "4c2cd08f-6db0-4c42-9e81-1079d4fc07d0",
   "metadata": {},
   "source": [
    "Convert a float to an int always results in a data loss."
   ]
  },
  {
   "cell_type": "code",
   "execution_count": 10,
   "id": "77d5b7f7-da35-4d3c-9bc4-03f25ee9db9d",
   "metadata": {
    "tags": []
   },
   "outputs": [
    {
     "name": "stdout",
     "output_type": "stream",
     "text": [
      "6\n",
      "<class 'int'>\n"
     ]
    }
   ],
   "source": [
    "z = int(6.9)\n",
    "print(z)\n",
    "print(type(z))"
   ]
  },
  {
   "cell_type": "markdown",
   "id": "7d993267-a2f5-4011-a3a6-b67adc335300",
   "metadata": {},
   "source": [
    "##### integer to float"
   ]
  },
  {
   "cell_type": "code",
   "execution_count": 11,
   "id": "3af7ca8b-ca5c-465d-a8d6-071c34077add",
   "metadata": {
    "tags": []
   },
   "outputs": [
    {
     "name": "stdout",
     "output_type": "stream",
     "text": [
      "10.0\n",
      "<class 'float'>\n"
     ]
    }
   ],
   "source": [
    "f = float(10)\n",
    "print(f)\n",
    "print(type(f))"
   ]
  },
  {
   "cell_type": "markdown",
   "id": "262da6ee-16e7-4367-848f-19127b5fe145",
   "metadata": {},
   "source": [
    "## Variable Names\n",
    "- A variable name must start with a letter or the underscore character\n",
    "- A variable name cannot start with a number\n",
    "- A variable name can only contain alpha-numeric characters and underscores (A-z, 0-9, and _ )\n",
    "- Variable names are case-sensitive\n",
    "- A variable name cannot be any of the Python keywords."
   ]
  },
  {
   "cell_type": "markdown",
   "id": "bfc262f3-3851-47df-9c0b-d573ac467600",
   "metadata": {
    "tags": []
   },
   "source": [
    "## Multi Words Variable Names\n",
    "- Camel Case : myVariableName = \"John\"\n",
    "- Pascal Case : MyVariableName = \"John\"\n",
    "- Snake Case :  my_variable_name = \"John\""
   ]
  },
  {
   "cell_type": "markdown",
   "id": "522900d7-5d06-4e07-8100-22fea9d96b51",
   "metadata": {
    "tags": []
   },
   "source": [
    "## Assign Multiple Values"
   ]
  },
  {
   "cell_type": "markdown",
   "id": "c76d66a7-b12c-4c42-a8e5-560feb7d67c9",
   "metadata": {
    "tags": []
   },
   "source": [
    "#### Many values to multiple variables"
   ]
  },
  {
   "cell_type": "code",
   "execution_count": 15,
   "id": "f9f92c6f-46ed-4d1d-b5ef-763f6333311f",
   "metadata": {
    "tags": []
   },
   "outputs": [
    {
     "name": "stdout",
     "output_type": "stream",
     "text": [
      "James\n",
      "Bond\n",
      "7\n"
     ]
    }
   ],
   "source": [
    "m, n, o = \"James\", \"Bond\", 7\n",
    "print(m)\n",
    "print(n)\n",
    "print(o)"
   ]
  },
  {
   "cell_type": "markdown",
   "id": "e59cd570-06e4-4de8-a296-57f07981b8fb",
   "metadata": {
    "tags": []
   },
   "source": [
    "#### One value to multiple variables"
   ]
  },
  {
   "cell_type": "code",
   "execution_count": 17,
   "id": "f498196d-ec18-485b-a834-0f6202f91e85",
   "metadata": {
    "tags": []
   },
   "outputs": [
    {
     "name": "stdout",
     "output_type": "stream",
     "text": [
      "Hello, World!\n",
      "Hello, World!\n",
      "Hello, World!\n"
     ]
    }
   ],
   "source": [
    "m = n = o = \"Hello, World!\"\n",
    "print(m)\n",
    "print(n)\n",
    "print(o)"
   ]
  },
  {
   "cell_type": "markdown",
   "id": "cb8782cf-f891-4689-9fbb-c94c127e9210",
   "metadata": {},
   "source": [
    "#### Unpack a Collection"
   ]
  },
  {
   "cell_type": "code",
   "execution_count": 18,
   "id": "aa38041b-9ce7-43cf-bfa2-094b403518a8",
   "metadata": {
    "tags": []
   },
   "outputs": [
    {
     "name": "stdout",
     "output_type": "stream",
     "text": [
      "wasik\n",
      "ahmed\n",
      "apon\n"
     ]
    }
   ],
   "source": [
    "names = [\"wasik\", \"ahmed\", \"apon\"]\n",
    "m, n, o = names\n",
    "print(m)\n",
    "print(n)\n",
    "print(o)"
   ]
  },
  {
   "cell_type": "markdown",
   "id": "e567fe1b-be06-4829-adf0-a348435c1822",
   "metadata": {},
   "source": [
    "## Global variables\n",
    "Variables that are created outside of a function are known as global variables."
   ]
  },
  {
   "cell_type": "code",
   "execution_count": 19,
   "id": "77fc9a1f-c90b-4f7d-a04f-e49d344ddd62",
   "metadata": {
    "tags": []
   },
   "outputs": [
    {
     "name": "stdout",
     "output_type": "stream",
     "text": [
      "HelloWorld\n"
     ]
    }
   ],
   "source": [
    "x = \"World\"\n",
    "\n",
    "def myFunction():\n",
    "    print(\"Hello\" + x)\n",
    "\n",
    "myFunction()"
   ]
  },
  {
   "cell_type": "code",
   "execution_count": 22,
   "id": "d40f0b9e-c4e3-4d53-9305-531b1853ae4a",
   "metadata": {
    "tags": []
   },
   "outputs": [
    {
     "name": "stdout",
     "output_type": "stream",
     "text": [
      "Hello Apon\n",
      "Hello Wasik\n"
     ]
    }
   ],
   "source": [
    "x = \"Wasik\" # global\n",
    "\n",
    "def myFunction():\n",
    "    x = \"Apon\"   # local\n",
    "    print(\"Hello\" , x)\n",
    "\n",
    "myFunction()\n",
    "\n",
    "print(\"Hello\" , x)"
   ]
  },
  {
   "cell_type": "markdown",
   "id": "993fb02c-dd22-4b51-a730-eecfebdd4d89",
   "metadata": {},
   "source": [
    "To change the value of a global variable inside a function, use the global keyword"
   ]
  },
  {
   "cell_type": "code",
   "execution_count": 25,
   "id": "f8f9d1db-ac01-4207-af8f-959b7778de2a",
   "metadata": {
    "tags": []
   },
   "outputs": [
    {
     "name": "stdout",
     "output_type": "stream",
     "text": [
      "Hello Wasik\n"
     ]
    }
   ],
   "source": [
    "x = \"World\"\n",
    "\n",
    "def myFunction():\n",
    "    global x\n",
    "    x = \"Wasik\"\n",
    "\n",
    "myFunction()\n",
    "    \n",
    "print(\"Hello \" + x)"
   ]
  }
 ],
 "metadata": {
  "kernelspec": {
   "display_name": "Python 3 (ipykernel)",
   "language": "python",
   "name": "python3"
  },
  "language_info": {
   "codemirror_mode": {
    "name": "ipython",
    "version": 3
   },
   "file_extension": ".py",
   "mimetype": "text/x-python",
   "name": "python",
   "nbconvert_exporter": "python",
   "pygments_lexer": "ipython3",
   "version": "3.11.3"
  }
 },
 "nbformat": 4,
 "nbformat_minor": 5
}
