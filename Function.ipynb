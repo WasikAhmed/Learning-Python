{
 "cells": [
  {
   "cell_type": "markdown",
   "source": [
    "# Functions in Python"
   ],
   "metadata": {
    "collapsed": false
   },
   "id": "3a580c817581d99c"
  },
  {
   "cell_type": "markdown",
   "source": [
    "**Define new function using `def()` keyword**"
   ],
   "metadata": {
    "collapsed": false
   },
   "id": "d0652570c3a4aa61"
  },
  {
   "cell_type": "code",
   "execution_count": 1,
   "outputs": [
    {
     "name": "stdout",
     "output_type": "stream",
     "text": [
      "Welcome!\n"
     ]
    }
   ],
   "source": [
    "def welcome():\n",
    "    print(\"Welcome!\")\n",
    "    \n",
    "welcome()"
   ],
   "metadata": {
    "collapsed": false,
    "ExecuteTime": {
     "end_time": "2023-10-26T13:30:42.363908Z",
     "start_time": "2023-10-26T13:30:42.352957Z"
    }
   },
   "id": "e99ef0ad5db5d5e0"
  },
  {
   "cell_type": "markdown",
   "source": [
    "**_parameter (argument)_ - a value passed into a function for use within the function**"
   ],
   "metadata": {
    "collapsed": false
   },
   "id": "1b389846edbc6aeb"
  },
  {
   "cell_type": "code",
   "execution_count": 2,
   "outputs": [
    {
     "name": "stdout",
     "output_type": "stream",
     "text": [
      "Welcome Wasik\n"
     ]
    }
   ],
   "source": [
    "def welcome(name):\n",
    "    print(\"Welcome \" + name)\n",
    "\n",
    "welcome(\"Wasik\")"
   ],
   "metadata": {
    "collapsed": false,
    "ExecuteTime": {
     "end_time": "2023-10-26T13:30:42.388847Z",
     "start_time": "2023-10-26T13:30:42.356296Z"
    }
   },
   "id": "f6b03232de4240ce"
  },
  {
   "cell_type": "markdown",
   "source": [
    "**_return value_ - the value or variable returned as the end result of a function**"
   ],
   "metadata": {
    "collapsed": false
   },
   "id": "40eaa47d315336e7"
  },
  {
   "cell_type": "code",
   "execution_count": 3,
   "outputs": [
    {
     "name": "stdout",
     "output_type": "stream",
     "text": [
      "30\n"
     ]
    }
   ],
   "source": [
    "def sum(x, y):\n",
    "    return x + y\n",
    "\n",
    "print(sum(10, 20))"
   ],
   "metadata": {
    "collapsed": false,
    "ExecuteTime": {
     "end_time": "2023-10-26T13:30:42.391120Z",
     "start_time": "2023-10-26T13:30:42.362474Z"
    }
   },
   "id": "4be104c2cd7c30c5"
  },
  {
   "cell_type": "markdown",
   "source": [
    "**return multiple values**"
   ],
   "metadata": {
    "collapsed": false
   },
   "id": "4c19261889ec82bb"
  },
  {
   "cell_type": "code",
   "execution_count": 4,
   "outputs": [
    {
     "name": "stdout",
     "output_type": "stream",
     "text": [
      "10 20 30\n"
     ]
    }
   ],
   "source": [
    "def get_values():\n",
    "    return 10, 20, 30\n",
    "\n",
    "value1, value2, value3 = get_values()   # storing values in multiple variables\n",
    "\n",
    "print(value1, value2, value3)"
   ],
   "metadata": {
    "collapsed": false,
    "ExecuteTime": {
     "end_time": "2023-10-26T13:30:42.391684Z",
     "start_time": "2023-10-26T13:30:42.367623Z"
    }
   },
   "id": "dda641112b76010c"
  },
  {
   "cell_type": "markdown",
   "source": [
    "### Create two functions that convert miles to kilometers and kilometers to miles."
   ],
   "metadata": {
    "collapsed": false
   },
   "id": "9f4854019cc08808"
  },
  {
   "cell_type": "code",
   "execution_count": 5,
   "outputs": [
    {
     "name": "stdout",
     "output_type": "stream",
     "text": [
      "length in km: 80.45\n",
      "length in mile: 31.05\n"
     ]
    }
   ],
   "source": [
    "def convert_km_to_mile(km):\n",
    "    return km * 0.621\n",
    "\n",
    "def convert_mile_to_km(mile):\n",
    "    return mile * 1.609\n",
    "\n",
    "length = 50\n",
    "print(\"length in km:\", convert_mile_to_km(length))\n",
    "print(\"length in mile:\",convert_km_to_mile(length))"
   ],
   "metadata": {
    "collapsed": false,
    "ExecuteTime": {
     "end_time": "2023-10-26T13:30:42.392634Z",
     "start_time": "2023-10-26T13:30:42.373200Z"
    }
   },
   "id": "f72c9c020b4363a5"
  }
 ],
 "metadata": {
  "kernelspec": {
   "display_name": "Python 3",
   "language": "python",
   "name": "python3"
  },
  "language_info": {
   "codemirror_mode": {
    "name": "ipython",
    "version": 2
   },
   "file_extension": ".py",
   "mimetype": "text/x-python",
   "name": "python",
   "nbconvert_exporter": "python",
   "pygments_lexer": "ipython2",
   "version": "2.7.6"
  }
 },
 "nbformat": 4,
 "nbformat_minor": 5
}
