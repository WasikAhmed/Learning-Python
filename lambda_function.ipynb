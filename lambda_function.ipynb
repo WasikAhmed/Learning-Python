{
 "cells": [
  {
   "metadata": {},
   "cell_type": "markdown",
   "source": "# Python Lambda Function",
   "id": "de0658f197fd30a7"
  },
  {
   "metadata": {},
   "cell_type": "markdown",
   "source": [
    "## What is a Lambda Function?\n",
    "\n",
    "A lambda function is a small anonymous function.\n",
    "\n",
    "A lambda function can take any number of arguments, but can only have one expression.\n",
    "\n",
    "Lambda functions are efficient whenever you want to create a function that will only contain simple expressions – that is, expressions that are usually a single line of a statement. They're also useful when you want to use the function once."
   ],
   "id": "f237d9f33ad26566"
  },
  {
   "metadata": {},
   "cell_type": "markdown",
   "source": [
    "## Defining a Lambda Function\n",
    "\n",
    "Syntax:\n",
    "```\n",
    "lambda argument(s) : expression\n",
    "```\n",
    "\n",
    "1. `lambda`: keyword in Python for defining the anonymous function.\n",
    "2. `argument(s)`: a placeholder, that is a variable that will be used to hold the value you want to pass into the function expression.\n",
    "3. `expression`: the code that you want to execute in the lambda function."
   ],
   "id": "7ed0d467e78f3fc3"
  },
  {
   "metadata": {
    "ExecuteTime": {
     "end_time": "2024-07-30T16:23:26.933181Z",
     "start_time": "2024-07-30T16:23:26.927583Z"
    }
   },
   "cell_type": "code",
   "source": [
    "# Regular function that returns twice the number that is passed into the function.\n",
    "def double(x):\n",
    "    return x * 2\n",
    "\n",
    "double(5)"
   ],
   "id": "6acc9f8183cd33e7",
   "outputs": [
    {
     "data": {
      "text/plain": [
       "10"
      ]
     },
     "execution_count": 1,
     "metadata": {},
     "output_type": "execute_result"
    }
   ],
   "execution_count": 1
  },
  {
   "metadata": {
    "ExecuteTime": {
     "end_time": "2024-07-30T16:23:26.937865Z",
     "start_time": "2024-07-30T16:23:26.934553Z"
    }
   },
   "cell_type": "code",
   "source": [
    "# using a lambda function\n",
    "double_lambda = lambda x: x * 2\n",
    "double_lambda(5)"
   ],
   "id": "29b661dac229ff59",
   "outputs": [
    {
     "data": {
      "text/plain": [
       "10"
      ]
     },
     "execution_count": 2,
     "metadata": {},
     "output_type": "execute_result"
    }
   ],
   "execution_count": 2
  },
  {
   "metadata": {
    "ExecuteTime": {
     "end_time": "2024-07-30T16:23:26.941468Z",
     "start_time": "2024-07-30T16:23:26.938596Z"
    }
   },
   "cell_type": "code",
   "source": "(lambda x: x * 2)(5)",
   "id": "f4079cd7ae1e6347",
   "outputs": [
    {
     "data": {
      "text/plain": [
       "10"
      ]
     },
     "execution_count": 3,
     "metadata": {},
     "output_type": "execute_result"
    }
   ],
   "execution_count": 3
  },
  {
   "metadata": {
    "ExecuteTime": {
     "end_time": "2024-07-30T16:23:26.945726Z",
     "start_time": "2024-07-30T16:23:26.942535Z"
    }
   },
   "cell_type": "code",
   "source": [
    "# using lambda function to add 3 numbers\n",
    "add = lambda x, y, z: x + y + z\n",
    "add(10, 20, 30)"
   ],
   "id": "9ce6aab2c5da0da8",
   "outputs": [
    {
     "data": {
      "text/plain": [
       "60"
      ]
     },
     "execution_count": 4,
     "metadata": {},
     "output_type": "execute_result"
    }
   ],
   "execution_count": 4
  },
  {
   "metadata": {},
   "cell_type": "markdown",
   "source": [
    "## Common Use Cases for Lambda Functions\n",
    "\n",
    "### Using a Lambda Function with Iterables\n",
    "\n",
    "Lambda functions can be used in conjunction with two common functions: `filter()` and `map()`."
   ],
   "id": "d97b0472f4a72d09"
  },
  {
   "metadata": {},
   "cell_type": "markdown",
   "source": [
    "### `filter()` function\n",
    "\n",
    "syntax:\n",
    "```\n",
    "filter(function, iterable)\n",
    "```\n",
    "a filter function requires another function that contains the expression or operations that will be performed on the iterable."
   ],
   "id": "36feb3ed139e23d2"
  },
  {
   "metadata": {
    "ExecuteTime": {
     "end_time": "2024-07-30T16:23:26.950378Z",
     "start_time": "2024-07-30T16:23:26.947447Z"
    }
   },
   "cell_type": "code",
   "source": [
    "# using lambda function to filter out the even numbers in a list\n",
    "nums = [1, 2, 3, 4, 5, 6, 7, 8, 9, 10]\n",
    "\n",
    "even_nums = filter(lambda x: x % 2 == 0, nums)\n",
    "even_nums"
   ],
   "id": "6ac7ca23ae9aade0",
   "outputs": [
    {
     "data": {
      "text/plain": [
       "<filter at 0x107f54730>"
      ]
     },
     "execution_count": 5,
     "metadata": {},
     "output_type": "execute_result"
    }
   ],
   "execution_count": 5
  },
  {
   "metadata": {
    "ExecuteTime": {
     "end_time": "2024-07-30T16:23:26.954189Z",
     "start_time": "2024-07-30T16:23:26.951228Z"
    }
   },
   "cell_type": "code",
   "source": [
    "# converting filter object to list\n",
    "even_nums = list(even_nums)\n",
    "even_nums"
   ],
   "id": "4580ff5a91ac8425",
   "outputs": [
    {
     "data": {
      "text/plain": [
       "[2, 4, 6, 8, 10]"
      ]
     },
     "execution_count": 6,
     "metadata": {},
     "output_type": "execute_result"
    }
   ],
   "execution_count": 6
  },
  {
   "metadata": {},
   "cell_type": "markdown",
   "source": [
    "### `map()` function\n",
    "\n",
    "syntax:\n",
    "```\n",
    "map(function, iterable)\n",
    "```"
   ],
   "id": "1fcf549cfeebb90"
  },
  {
   "metadata": {
    "ExecuteTime": {
     "end_time": "2024-07-30T16:23:26.957663Z",
     "start_time": "2024-07-30T16:23:26.954868Z"
    }
   },
   "cell_type": "code",
   "source": [
    "# using lambda function to modify every value in a list\n",
    "nums = [1, 2, 3 ,4 ,5]\n",
    "\n",
    "# raising all values in the list to the power of 2\n",
    "squared_nums = list(map(lambda x: pow(x, 2), nums))\n",
    "squared_nums"
   ],
   "id": "344660a7f5a1d6ce",
   "outputs": [
    {
     "data": {
      "text/plain": [
       "[1, 4, 9, 16, 25]"
      ]
     },
     "execution_count": 7,
     "metadata": {},
     "output_type": "execute_result"
    }
   ],
   "execution_count": 7
  },
  {
   "metadata": {},
   "cell_type": "markdown",
   "source": [
    "### Pandas Series\n",
    "\n",
    "A series is a data frame column in pandas. \n",
    "Using lambda function all the values is a series can be manipulated."
   ],
   "id": "9ec41f6b26e69010"
  },
  {
   "metadata": {
    "ExecuteTime": {
     "end_time": "2024-07-30T16:23:27.454713Z",
     "start_time": "2024-07-30T16:23:26.958305Z"
    }
   },
   "cell_type": "code",
   "source": [
    "# importing pandas module\n",
    "import pandas as pd\n",
    "\n",
    "df = pd.DataFrame({\n",
    "    'name': ['WASIK', 'AHMED', 'APON'],\n",
    "    'score': [20, 30, 40]\n",
    "})\n",
    "df"
   ],
   "id": "4ada8a90df4c7f6",
   "outputs": [
    {
     "data": {
      "text/plain": [
       "    name  score\n",
       "0  WASIK     20\n",
       "1  AHMED     30\n",
       "2   APON     40"
      ],
      "text/html": [
       "<div>\n",
       "<style scoped>\n",
       "    .dataframe tbody tr th:only-of-type {\n",
       "        vertical-align: middle;\n",
       "    }\n",
       "\n",
       "    .dataframe tbody tr th {\n",
       "        vertical-align: top;\n",
       "    }\n",
       "\n",
       "    .dataframe thead th {\n",
       "        text-align: right;\n",
       "    }\n",
       "</style>\n",
       "<table border=\"1\" class=\"dataframe\">\n",
       "  <thead>\n",
       "    <tr style=\"text-align: right;\">\n",
       "      <th></th>\n",
       "      <th>name</th>\n",
       "      <th>score</th>\n",
       "    </tr>\n",
       "  </thead>\n",
       "  <tbody>\n",
       "    <tr>\n",
       "      <th>0</th>\n",
       "      <td>WASIK</td>\n",
       "      <td>20</td>\n",
       "    </tr>\n",
       "    <tr>\n",
       "      <th>1</th>\n",
       "      <td>AHMED</td>\n",
       "      <td>30</td>\n",
       "    </tr>\n",
       "    <tr>\n",
       "      <th>2</th>\n",
       "      <td>APON</td>\n",
       "      <td>40</td>\n",
       "    </tr>\n",
       "  </tbody>\n",
       "</table>\n",
       "</div>"
      ]
     },
     "execution_count": 8,
     "metadata": {},
     "output_type": "execute_result"
    }
   ],
   "execution_count": 8
  },
  {
   "metadata": {
    "ExecuteTime": {
     "end_time": "2024-07-30T16:23:27.459288Z",
     "start_time": "2024-07-30T16:23:27.455396Z"
    }
   },
   "cell_type": "code",
   "source": [
    "# applying lambda function to convert all names to lowercase\n",
    "df['lower_case_name'] = df['name'].apply(lambda x: x.lower())\n",
    "df"
   ],
   "id": "50d1abd159ec437c",
   "outputs": [
    {
     "data": {
      "text/plain": [
       "    name  score lower_case_name\n",
       "0  WASIK     20           wasik\n",
       "1  AHMED     30           ahmed\n",
       "2   APON     40            apon"
      ],
      "text/html": [
       "<div>\n",
       "<style scoped>\n",
       "    .dataframe tbody tr th:only-of-type {\n",
       "        vertical-align: middle;\n",
       "    }\n",
       "\n",
       "    .dataframe tbody tr th {\n",
       "        vertical-align: top;\n",
       "    }\n",
       "\n",
       "    .dataframe thead th {\n",
       "        text-align: right;\n",
       "    }\n",
       "</style>\n",
       "<table border=\"1\" class=\"dataframe\">\n",
       "  <thead>\n",
       "    <tr style=\"text-align: right;\">\n",
       "      <th></th>\n",
       "      <th>name</th>\n",
       "      <th>score</th>\n",
       "      <th>lower_case_name</th>\n",
       "    </tr>\n",
       "  </thead>\n",
       "  <tbody>\n",
       "    <tr>\n",
       "      <th>0</th>\n",
       "      <td>WASIK</td>\n",
       "      <td>20</td>\n",
       "      <td>wasik</td>\n",
       "    </tr>\n",
       "    <tr>\n",
       "      <th>1</th>\n",
       "      <td>AHMED</td>\n",
       "      <td>30</td>\n",
       "      <td>ahmed</td>\n",
       "    </tr>\n",
       "    <tr>\n",
       "      <th>2</th>\n",
       "      <td>APON</td>\n",
       "      <td>40</td>\n",
       "      <td>apon</td>\n",
       "    </tr>\n",
       "  </tbody>\n",
       "</table>\n",
       "</div>"
      ]
     },
     "execution_count": 9,
     "metadata": {},
     "output_type": "execute_result"
    }
   ],
   "execution_count": 9
  }
 ],
 "metadata": {
  "kernelspec": {
   "display_name": "Python 3",
   "language": "python",
   "name": "python3"
  },
  "language_info": {
   "codemirror_mode": {
    "name": "ipython",
    "version": 2
   },
   "file_extension": ".py",
   "mimetype": "text/x-python",
   "name": "python",
   "nbconvert_exporter": "python",
   "pygments_lexer": "ipython2",
   "version": "2.7.6"
  }
 },
 "nbformat": 4,
 "nbformat_minor": 5
}
