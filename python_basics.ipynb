{
 "nbformat": 4,
 "nbformat_minor": 0,
 "metadata": {
  "colab": {
   "provenance": [
    {
     "file_id": "https://github.com/WasikAhmed/Learning-Python/blob/main/python_basics.ipynb",
     "timestamp": 1717751852084
    }
   ],
   "authorship_tag": "ABX9TyM+yvSYLg1JzIHfXZQIdZj6"
  },
  "kernelspec": {
   "name": "python3",
   "language": "python",
   "display_name": "Python 3 (ipykernel)"
  },
  "language_info": {
   "name": "python"
  }
 },
 "cells": [
  {
   "cell_type": "markdown",
   "source": [
    "# Python Basics"
   ],
   "metadata": {
    "id": "KqarRX2RfUov"
   }
  },
  {
   "cell_type": "markdown",
   "source": [
    "## Hello world"
   ],
   "metadata": {
    "id": "lOMkC6Wyfmb-"
   }
  },
  {
   "cell_type": "code",
   "source": [
    "print(\"Hello, World!\")"
   ],
   "metadata": {
    "colab": {
     "base_uri": "https://localhost:8080/"
    },
    "id": "4w8pnwqFftMN",
    "executionInfo": {
     "status": "ok",
     "timestamp": 1717751658143,
     "user_tz": -360,
     "elapsed": 64,
     "user": {
      "displayName": "",
      "userId": ""
     }
    },
    "outputId": "26d65df0-75fd-45a4-982c-e1ab8ca1569a",
    "ExecuteTime": {
     "end_time": "2024-06-07T09:21:50.880302Z",
     "start_time": "2024-06-07T09:21:50.874736Z"
    }
   },
   "execution_count": 1,
   "outputs": [
    {
     "name": "stdout",
     "output_type": "stream",
     "text": [
      "Hello, World!\n"
     ]
    }
   ]
  },
  {
   "cell_type": "markdown",
   "source": [
    "## Checking python version"
   ],
   "metadata": {
    "id": "NJCouLVrgs29"
   }
  },
  {
   "cell_type": "code",
   "source": [
    "! python3 --version"
   ],
   "metadata": {
    "colab": {
     "base_uri": "https://localhost:8080/"
    },
    "id": "o_Y1xMhVgxuh",
    "executionInfo": {
     "status": "ok",
     "timestamp": 1717751658143,
     "user_tz": -360,
     "elapsed": 62,
     "user": {
      "displayName": "",
      "userId": ""
     }
    },
    "outputId": "b65d0d09-7470-4006-f47f-d8880d5d504a",
    "ExecuteTime": {
     "end_time": "2024-06-07T09:21:51.013219Z",
     "start_time": "2024-06-07T09:21:50.889272Z"
    }
   },
   "execution_count": 2,
   "outputs": [
    {
     "name": "stdout",
     "output_type": "stream",
     "text": [
      "Python 3.11.7\r\n"
     ]
    }
   ]
  },
  {
   "cell_type": "markdown",
   "source": [
    "## Variables\n",
    "Containers for storing data.\n",
    "Don't require to be declared with any particular type."
   ],
   "metadata": {
    "id": "0uy_2n_di4IK"
   }
  },
  {
   "cell_type": "code",
   "source": [
    "x = 10\n",
    "y = 20\n",
    "x, y"
   ],
   "metadata": {
    "colab": {
     "base_uri": "https://localhost:8080/"
    },
    "id": "oP8Bm3p9i6Y7",
    "executionInfo": {
     "status": "ok",
     "timestamp": 1717751658143,
     "user_tz": -360,
     "elapsed": 58,
     "user": {
      "displayName": "",
      "userId": ""
     }
    },
    "outputId": "72977d57-7e01-4aef-8cc1-48317062e311",
    "ExecuteTime": {
     "end_time": "2024-06-07T09:21:51.019372Z",
     "start_time": "2024-06-07T09:21:51.014600Z"
    }
   },
   "execution_count": 3,
   "outputs": [
    {
     "data": {
      "text/plain": "(10, 20)"
     },
     "execution_count": 3,
     "metadata": {},
     "output_type": "execute_result"
    }
   ]
  },
  {
   "cell_type": "code",
   "source": [
    "a, b, c = 55, 66, 77\n",
    "a, b, c"
   ],
   "metadata": {
    "colab": {
     "base_uri": "https://localhost:8080/"
    },
    "id": "WX5MYMNhjji2",
    "executionInfo": {
     "status": "ok",
     "timestamp": 1717751658143,
     "user_tz": -360,
     "elapsed": 55,
     "user": {
      "displayName": "",
      "userId": ""
     }
    },
    "outputId": "e92ee43f-1dad-4fa1-b989-57af15d1c6c4",
    "ExecuteTime": {
     "end_time": "2024-06-07T09:21:51.023308Z",
     "start_time": "2024-06-07T09:21:51.020261Z"
    }
   },
   "execution_count": 4,
   "outputs": [
    {
     "data": {
      "text/plain": "(55, 66, 77)"
     },
     "execution_count": 4,
     "metadata": {},
     "output_type": "execute_result"
    }
   ]
  },
  {
   "cell_type": "code",
   "source": [
    "m, n, o= 'Hello', 'w', True\n",
    "m, n, o"
   ],
   "metadata": {
    "colab": {
     "base_uri": "https://localhost:8080/"
    },
    "id": "Q-S17IiDkJxb",
    "executionInfo": {
     "status": "ok",
     "timestamp": 1717751658143,
     "user_tz": -360,
     "elapsed": 53,
     "user": {
      "displayName": "",
      "userId": ""
     }
    },
    "outputId": "3bf6b69f-ed3e-491f-ecd7-fe50990f8240",
    "ExecuteTime": {
     "end_time": "2024-06-07T09:21:51.028942Z",
     "start_time": "2024-06-07T09:21:51.025751Z"
    }
   },
   "execution_count": 5,
   "outputs": [
    {
     "data": {
      "text/plain": "('Hello', 'w', True)"
     },
     "execution_count": 5,
     "metadata": {},
     "output_type": "execute_result"
    }
   ]
  },
  {
   "cell_type": "markdown",
   "source": [
    "## Data types\n",
    "Built-in data types\n",
    "\n",
    "- Text Type: \tstr\n",
    "- Numeric Types: \tint, float, complex\n",
    "- Sequence Types: \tlist, tuple, range\n",
    "- Mapping Type: \tdict\n",
    "- Set Types: \tset, frozenset\n",
    "- Boolean Type: \tbool\n",
    "- Binary Types: \tbytes, bytearray, memoryview\n",
    "- None Type: \tNoneType"
   ],
   "metadata": {
    "id": "FrkAkkP0kz32"
   }
  },
  {
   "cell_type": "markdown",
   "source": [
    "### Checking data types"
   ],
   "metadata": {
    "id": "YJBUwcI-lvWf"
   }
  },
  {
   "cell_type": "code",
   "source": [
    "a, b, c, d, e, f, g = 'wasik', 5, 2.32, 3+2j, [1, 2, 3], True, None\n",
    "type(a), type(b), type(c), type(d), type(e), type(f), type(g)"
   ],
   "metadata": {
    "colab": {
     "base_uri": "https://localhost:8080/"
    },
    "id": "HCxlG-Gmk3qY",
    "executionInfo": {
     "status": "ok",
     "timestamp": 1717751658143,
     "user_tz": -360,
     "elapsed": 50,
     "user": {
      "displayName": "",
      "userId": ""
     }
    },
    "outputId": "b1e55e5a-7a63-441b-dde7-1901d682bdd1",
    "ExecuteTime": {
     "end_time": "2024-06-07T09:21:51.089059Z",
     "start_time": "2024-06-07T09:21:51.085609Z"
    }
   },
   "execution_count": 6,
   "outputs": [
    {
     "data": {
      "text/plain": "(str, int, float, complex, list, bool, NoneType)"
     },
     "execution_count": 6,
     "metadata": {},
     "output_type": "execute_result"
    }
   ]
  },
  {
   "cell_type": "markdown",
   "source": [
    "## Numbers\n",
    "There are three numeric types in Python\n",
    "- int\n",
    "- float\n",
    "- complex"
   ],
   "metadata": {
    "id": "WC091Cp8sk-k"
   }
  },
  {
   "cell_type": "code",
   "source": [
    "x = 5\n",
    "y = 6.78\n",
    "z = 5+10j\n",
    "type(x), type(y), type(z)"
   ],
   "metadata": {
    "colab": {
     "base_uri": "https://localhost:8080/"
    },
    "id": "do6BGCBfnafW",
    "executionInfo": {
     "status": "ok",
     "timestamp": 1717751658143,
     "user_tz": -360,
     "elapsed": 48,
     "user": {
      "displayName": "",
      "userId": ""
     }
    },
    "outputId": "e8b6d665-e586-4222-fce0-18fe96dd7a16",
    "ExecuteTime": {
     "end_time": "2024-06-07T09:21:51.159855Z",
     "start_time": "2024-06-07T09:21:51.157257Z"
    }
   },
   "execution_count": 7,
   "outputs": [
    {
     "data": {
      "text/plain": "(int, float, complex)"
     },
     "execution_count": 7,
     "metadata": {},
     "output_type": "execute_result"
    }
   ]
  },
  {
   "cell_type": "markdown",
   "source": [
    "## Casting\n",
    "Specify a type on to a variable using casting."
   ],
   "metadata": {
    "id": "479Hktaith36"
   }
  },
  {
   "cell_type": "code",
   "source": [
    "a, b, c, d = 3, 5.66, '5', 7+8j"
   ],
   "metadata": {
    "id": "UJkO8kreu-Lo",
    "executionInfo": {
     "status": "ok",
     "timestamp": 1717751658143,
     "user_tz": -360,
     "elapsed": 47,
     "user": {
      "displayName": "",
      "userId": ""
     }
    },
    "ExecuteTime": {
     "end_time": "2024-06-07T09:21:51.224254Z",
     "start_time": "2024-06-07T09:21:51.222291Z"
    }
   },
   "execution_count": 8,
   "outputs": []
  },
  {
   "cell_type": "markdown",
   "source": [
    "**Integers**"
   ],
   "metadata": {
    "id": "ym434StDt9Js"
   }
  },
  {
   "cell_type": "code",
   "source": [
    "int(a), int(b), int(c)\n",
    "# A complex number cannot be represented as an integer.\n",
    "# int(d) will raise an error"
   ],
   "metadata": {
    "colab": {
     "base_uri": "https://localhost:8080/"
    },
    "id": "VhV1AkdztHd2",
    "executionInfo": {
     "status": "ok",
     "timestamp": 1717751658143,
     "user_tz": -360,
     "elapsed": 46,
     "user": {
      "displayName": "",
      "userId": ""
     }
    },
    "outputId": "3fd356cf-7b14-49ab-86db-603cd8943ca9",
    "ExecuteTime": {
     "end_time": "2024-06-07T09:21:51.278213Z",
     "start_time": "2024-06-07T09:21:51.274702Z"
    }
   },
   "execution_count": 9,
   "outputs": [
    {
     "data": {
      "text/plain": "(3, 5, 5)"
     },
     "execution_count": 9,
     "metadata": {},
     "output_type": "execute_result"
    }
   ]
  },
  {
   "cell_type": "markdown",
   "source": [
    "**Floats**"
   ],
   "metadata": {
    "id": "_aQWQCIpu31H"
   }
  },
  {
   "cell_type": "code",
   "source": [
    "float(a), float(b), float(c)\n",
    "# A complex number cannot be represented as an float.\n",
    "# float(d) will raise an error"
   ],
   "metadata": {
    "colab": {
     "base_uri": "https://localhost:8080/"
    },
    "id": "agTIEu9uuObs",
    "executionInfo": {
     "status": "ok",
     "timestamp": 1717751658143,
     "user_tz": -360,
     "elapsed": 45,
     "user": {
      "displayName": "",
      "userId": ""
     }
    },
    "outputId": "872b5d44-6ae2-4bf6-b7fa-514d35a358f1",
    "ExecuteTime": {
     "end_time": "2024-06-07T09:21:51.293859Z",
     "start_time": "2024-06-07T09:21:51.291088Z"
    }
   },
   "execution_count": 10,
   "outputs": [
    {
     "data": {
      "text/plain": "(3.0, 5.66, 5.0)"
     },
     "execution_count": 10,
     "metadata": {},
     "output_type": "execute_result"
    }
   ]
  },
  {
   "cell_type": "markdown",
   "source": [
    "**Strings**"
   ],
   "metadata": {
    "id": "m14wzd39vM1H"
   }
  },
  {
   "cell_type": "code",
   "source": [
    "str(a), str(b), str(c), str(d)"
   ],
   "metadata": {
    "colab": {
     "base_uri": "https://localhost:8080/"
    },
    "id": "zM0LeAqVvFjQ",
    "executionInfo": {
     "status": "ok",
     "timestamp": 1717751658143,
     "user_tz": -360,
     "elapsed": 43,
     "user": {
      "displayName": "",
      "userId": ""
     }
    },
    "outputId": "b4f6bc8d-64a6-42fb-a414-0b9067655f08",
    "ExecuteTime": {
     "end_time": "2024-06-07T09:21:51.308890Z",
     "start_time": "2024-06-07T09:21:51.306198Z"
    }
   },
   "execution_count": 11,
   "outputs": [
    {
     "data": {
      "text/plain": "('3', '5.66', '5', '(7+8j)')"
     },
     "execution_count": 11,
     "metadata": {},
     "output_type": "execute_result"
    }
   ]
  },
  {
   "cell_type": "markdown",
   "source": [
    "## Strings\n",
    "Strings are used for representing textual data. A string is a sequence of characters enclosed in either single quotes ('') or double quotes (“”)."
   ],
   "metadata": {
    "id": "WBZVqIeHwDN0"
   }
  },
  {
   "cell_type": "code",
   "source": [
    "string = \"This is a string\"\n",
    "string"
   ],
   "metadata": {
    "colab": {
     "base_uri": "https://localhost:8080/",
     "height": 36
    },
    "id": "6tTGB8UsvYWz",
    "executionInfo": {
     "status": "ok",
     "timestamp": 1717751658144,
     "user_tz": -360,
     "elapsed": 43,
     "user": {
      "displayName": "",
      "userId": ""
     }
    },
    "outputId": "8d41a231-1d04-457e-93e5-b3169d4a53c0",
    "ExecuteTime": {
     "end_time": "2024-06-07T09:21:51.356468Z",
     "start_time": "2024-06-07T09:21:51.353521Z"
    }
   },
   "execution_count": 12,
   "outputs": [
    {
     "data": {
      "text/plain": "'This is a string'"
     },
     "execution_count": 12,
     "metadata": {},
     "output_type": "execute_result"
    }
   ]
  },
  {
   "cell_type": "markdown",
   "source": [
    "**Multiline Strings**\n",
    "\n",
    "Triple quote marks “”\" or ''' creates multi-line strings."
   ],
   "metadata": {
    "id": "qBCFIceLwpFJ"
   }
  },
  {
   "cell_type": "code",
   "source": [
    "multiline_string = \"\"\"This is a\n",
    "multiline\n",
    "string\n",
    "\"\"\"\n",
    "multiline_string"
   ],
   "metadata": {
    "colab": {
     "base_uri": "https://localhost:8080/",
     "height": 36
    },
    "id": "RIzRtF_wwame",
    "executionInfo": {
     "status": "ok",
     "timestamp": 1717751658144,
     "user_tz": -360,
     "elapsed": 42,
     "user": {
      "displayName": "",
      "userId": ""
     }
    },
    "outputId": "99f87841-be17-4e33-b44e-9c483b3bd2b9",
    "ExecuteTime": {
     "end_time": "2024-06-07T09:21:51.364473Z",
     "start_time": "2024-06-07T09:21:51.361385Z"
    }
   },
   "execution_count": 13,
   "outputs": [
    {
     "data": {
      "text/plain": "'This is a\\nmultiline\\nstring\\n'"
     },
     "execution_count": 13,
     "metadata": {},
     "output_type": "execute_result"
    }
   ]
  },
  {
   "cell_type": "markdown",
   "source": [
    "**Looping Through a String**"
   ],
   "metadata": {
    "id": "IQHDON_dxWn3"
   }
  },
  {
   "cell_type": "code",
   "source": [
    "string = 'string'\n",
    "for char in string:\n",
    "    print(char)"
   ],
   "metadata": {
    "colab": {
     "base_uri": "https://localhost:8080/"
    },
    "id": "s8pOKXf4xKB0",
    "executionInfo": {
     "status": "ok",
     "timestamp": 1717751658144,
     "user_tz": -360,
     "elapsed": 41,
     "user": {
      "displayName": "",
      "userId": ""
     }
    },
    "outputId": "52250010-1e86-4734-c776-21575f8a7735",
    "ExecuteTime": {
     "end_time": "2024-06-07T09:21:51.443522Z",
     "start_time": "2024-06-07T09:21:51.438529Z"
    }
   },
   "execution_count": 14,
   "outputs": [
    {
     "name": "stdout",
     "output_type": "stream",
     "text": [
      "s\n",
      "t\n",
      "r\n",
      "i\n",
      "n\n",
      "g\n"
     ]
    }
   ]
  },
  {
   "cell_type": "markdown",
   "source": [
    "**String Length**\n",
    "\n",
    "`len()` function returns the length of a string."
   ],
   "metadata": {
    "id": "6JYDYqf3xlBY"
   }
  },
  {
   "cell_type": "code",
   "source": [
    "string = \"Hello, World!\"\n",
    "len(string)"
   ],
   "metadata": {
    "colab": {
     "base_uri": "https://localhost:8080/"
    },
    "id": "ld5w6Dj_xgwQ",
    "executionInfo": {
     "status": "ok",
     "timestamp": 1717751658144,
     "user_tz": -360,
     "elapsed": 39,
     "user": {
      "displayName": "",
      "userId": ""
     }
    },
    "outputId": "76da3200-5fe8-469c-931d-66e95d4b43df",
    "ExecuteTime": {
     "end_time": "2024-06-07T09:21:51.500472Z",
     "start_time": "2024-06-07T09:21:51.497953Z"
    }
   },
   "execution_count": 15,
   "outputs": [
    {
     "data": {
      "text/plain": "13"
     },
     "execution_count": 15,
     "metadata": {},
     "output_type": "execute_result"
    }
   ]
  },
  {
   "cell_type": "markdown",
   "source": [
    "### Slicing\n",
    "\n",
    "`string[start:stop:step]`"
   ],
   "metadata": {
    "id": "2TGK0lcDyeda"
   }
  },
  {
   "cell_type": "code",
   "source": [
    "s = \"Python is fun!!!\""
   ],
   "metadata": {
    "id": "kl_JC0hoyOmJ",
    "executionInfo": {
     "status": "ok",
     "timestamp": 1717751658144,
     "user_tz": -360,
     "elapsed": 37,
     "user": {
      "displayName": "",
      "userId": ""
     }
    },
    "ExecuteTime": {
     "end_time": "2024-06-07T09:21:51.553032Z",
     "start_time": "2024-06-07T09:21:51.551028Z"
    }
   },
   "execution_count": 16,
   "outputs": []
  },
  {
   "cell_type": "markdown",
   "source": [
    "**Slice From the Start**"
   ],
   "metadata": {
    "id": "vpHYCj3MzVNB"
   }
  },
  {
   "cell_type": "code",
   "source": [
    "s[:6]"
   ],
   "metadata": {
    "colab": {
     "base_uri": "https://localhost:8080/",
     "height": 36
    },
    "id": "OPfKEot_zr07",
    "executionInfo": {
     "status": "ok",
     "timestamp": 1717751658144,
     "user_tz": -360,
     "elapsed": 37,
     "user": {
      "displayName": "",
      "userId": ""
     }
    },
    "outputId": "e8275c0c-730e-4a6f-8a5e-c0f50d4bb4e9",
    "ExecuteTime": {
     "end_time": "2024-06-07T09:21:51.606260Z",
     "start_time": "2024-06-07T09:21:51.604253Z"
    }
   },
   "execution_count": 17,
   "outputs": [
    {
     "data": {
      "text/plain": "'Python'"
     },
     "execution_count": 17,
     "metadata": {},
     "output_type": "execute_result"
    }
   ]
  },
  {
   "cell_type": "markdown",
   "source": [
    "**Slice To the End**"
   ],
   "metadata": {
    "id": "3LRvwGCpz6F9"
   }
  },
  {
   "cell_type": "code",
   "source": [
    "s[7:]"
   ],
   "metadata": {
    "colab": {
     "base_uri": "https://localhost:8080/",
     "height": 36
    },
    "id": "FRJHdc7Ryw9L",
    "executionInfo": {
     "status": "ok",
     "timestamp": 1717751658144,
     "user_tz": -360,
     "elapsed": 36,
     "user": {
      "displayName": "",
      "userId": ""
     }
    },
    "outputId": "9c0277e0-2475-4812-fd67-dff5258037ce",
    "ExecuteTime": {
     "end_time": "2024-06-07T09:21:51.641734Z",
     "start_time": "2024-06-07T09:21:51.639305Z"
    }
   },
   "execution_count": 18,
   "outputs": [
    {
     "data": {
      "text/plain": "'is fun!!!'"
     },
     "execution_count": 18,
     "metadata": {},
     "output_type": "execute_result"
    }
   ]
  },
  {
   "cell_type": "markdown",
   "source": [
    "**Negative Indexing**"
   ],
   "metadata": {
    "id": "WEazyGXkz_z0"
   }
  },
  {
   "cell_type": "code",
   "source": [
    "s[:-3]"
   ],
   "metadata": {
    "colab": {
     "base_uri": "https://localhost:8080/",
     "height": 36
    },
    "id": "z_m-SWlYzekT",
    "executionInfo": {
     "status": "ok",
     "timestamp": 1717751658144,
     "user_tz": -360,
     "elapsed": 36,
     "user": {
      "displayName": "",
      "userId": ""
     }
    },
    "outputId": "08359af4-39ce-44fa-8c2e-18130c99943a",
    "ExecuteTime": {
     "end_time": "2024-06-07T09:21:51.658094Z",
     "start_time": "2024-06-07T09:21:51.655187Z"
    }
   },
   "execution_count": 19,
   "outputs": [
    {
     "data": {
      "text/plain": "'Python is fun'"
     },
     "execution_count": 19,
     "metadata": {},
     "output_type": "execute_result"
    }
   ]
  },
  {
   "cell_type": "markdown",
   "source": [
    "### Modify Strings"
   ],
   "metadata": {
    "id": "bOFuPOkz1C9B"
   }
  },
  {
   "cell_type": "markdown",
   "source": [
    "**Upper Case**"
   ],
   "metadata": {
    "id": "fDska9Iv1cYY"
   }
  },
  {
   "cell_type": "code",
   "source": [
    "string = 'Hello, World!'\n",
    "string.upper()"
   ],
   "metadata": {
    "colab": {
     "base_uri": "https://localhost:8080/",
     "height": 36
    },
    "id": "IgqB3zVy0hG7",
    "executionInfo": {
     "status": "ok",
     "timestamp": 1717751658144,
     "user_tz": -360,
     "elapsed": 35,
     "user": {
      "displayName": "",
      "userId": ""
     }
    },
    "outputId": "c10034ca-48cb-4b7e-f560-c301efb3cf53",
    "ExecuteTime": {
     "end_time": "2024-06-07T09:21:51.722076Z",
     "start_time": "2024-06-07T09:21:51.714931Z"
    }
   },
   "execution_count": 20,
   "outputs": [
    {
     "data": {
      "text/plain": "'HELLO, WORLD!'"
     },
     "execution_count": 20,
     "metadata": {},
     "output_type": "execute_result"
    }
   ]
  },
  {
   "cell_type": "markdown",
   "source": [
    "**Lower Case**"
   ],
   "metadata": {
    "id": "3Lb0dw_916Zo"
   }
  },
  {
   "cell_type": "code",
   "source": [
    "string = 'Hello, World!'\n",
    "string.lower()"
   ],
   "metadata": {
    "colab": {
     "base_uri": "https://localhost:8080/",
     "height": 36
    },
    "id": "cN6FGXn_13pd",
    "executionInfo": {
     "status": "ok",
     "timestamp": 1717751658144,
     "user_tz": -360,
     "elapsed": 35,
     "user": {
      "displayName": "",
      "userId": ""
     }
    },
    "outputId": "323e74c5-327d-4acd-fc01-3021a1b0641c",
    "ExecuteTime": {
     "end_time": "2024-06-07T09:21:51.824901Z",
     "start_time": "2024-06-07T09:21:51.820125Z"
    }
   },
   "execution_count": 21,
   "outputs": [
    {
     "data": {
      "text/plain": "'hello, world!'"
     },
     "execution_count": 21,
     "metadata": {},
     "output_type": "execute_result"
    }
   ]
  },
  {
   "cell_type": "markdown",
   "source": [
    "**Capitalize**"
   ],
   "metadata": {
    "id": "MCdrbd812Gic"
   }
  },
  {
   "cell_type": "code",
   "source": [
    "string = 'this is capitalized string!'\n",
    "string.capitalize()"
   ],
   "metadata": {
    "colab": {
     "base_uri": "https://localhost:8080/",
     "height": 36
    },
    "id": "1UGrSlRE2BFh",
    "executionInfo": {
     "status": "ok",
     "timestamp": 1717751658144,
     "user_tz": -360,
     "elapsed": 34,
     "user": {
      "displayName": "",
      "userId": ""
     }
    },
    "outputId": "bab79fe3-6cb7-44bf-e7c6-89ca51d3088e",
    "ExecuteTime": {
     "end_time": "2024-06-07T09:21:51.883481Z",
     "start_time": "2024-06-07T09:21:51.880453Z"
    }
   },
   "execution_count": 22,
   "outputs": [
    {
     "data": {
      "text/plain": "'This is capitalized string!'"
     },
     "execution_count": 22,
     "metadata": {},
     "output_type": "execute_result"
    }
   ]
  },
  {
   "cell_type": "markdown",
   "source": [
    "**Remove Whitespace**"
   ],
   "metadata": {
    "id": "Lu2j77ZV2ie9"
   }
  },
  {
   "cell_type": "code",
   "source": [
    "string = \"   Hello, World!   \"\n",
    "string.strip()"
   ],
   "metadata": {
    "colab": {
     "base_uri": "https://localhost:8080/",
     "height": 36
    },
    "id": "UoPj6d8B2T45",
    "executionInfo": {
     "status": "ok",
     "timestamp": 1717751658144,
     "user_tz": -360,
     "elapsed": 34,
     "user": {
      "displayName": "",
      "userId": ""
     }
    },
    "outputId": "842a1f0f-d9f1-4062-900e-868dbcc23d2d",
    "ExecuteTime": {
     "end_time": "2024-06-07T09:21:51.934356Z",
     "start_time": "2024-06-07T09:21:51.930154Z"
    }
   },
   "execution_count": 23,
   "outputs": [
    {
     "data": {
      "text/plain": "'Hello, World!'"
     },
     "execution_count": 23,
     "metadata": {},
     "output_type": "execute_result"
    }
   ]
  },
  {
   "cell_type": "markdown",
   "source": [
    "**Replace**"
   ],
   "metadata": {
    "id": "HtfxcSld2yYJ"
   }
  },
  {
   "cell_type": "code",
   "source": [
    "string = 'Hello, World!'\n",
    "string.replace('H', 'J')"
   ],
   "metadata": {
    "colab": {
     "base_uri": "https://localhost:8080/",
     "height": 36
    },
    "id": "0Ew62Gen2qTc",
    "executionInfo": {
     "status": "ok",
     "timestamp": 1717751658144,
     "user_tz": -360,
     "elapsed": 34,
     "user": {
      "displayName": "",
      "userId": ""
     }
    },
    "outputId": "4a07539f-5902-4ad3-cb01-af3e9704fd56",
    "ExecuteTime": {
     "end_time": "2024-06-07T09:21:52.008356Z",
     "start_time": "2024-06-07T09:21:52.002536Z"
    }
   },
   "execution_count": 24,
   "outputs": [
    {
     "data": {
      "text/plain": "'Jello, World!'"
     },
     "execution_count": 24,
     "metadata": {},
     "output_type": "execute_result"
    }
   ]
  },
  {
   "cell_type": "markdown",
   "source": [
    "**Split**"
   ],
   "metadata": {
    "id": "74DGOuaT3CbM"
   }
  },
  {
   "cell_type": "code",
   "source": [
    "string = 'Hello, World!'\n",
    "string.split(',')"
   ],
   "metadata": {
    "colab": {
     "base_uri": "https://localhost:8080/"
    },
    "id": "y_U_n3NX26XM",
    "executionInfo": {
     "status": "ok",
     "timestamp": 1717751658144,
     "user_tz": -360,
     "elapsed": 34,
     "user": {
      "displayName": "",
      "userId": ""
     }
    },
    "outputId": "78531eed-7ae9-42d3-a012-a91d712640b2",
    "ExecuteTime": {
     "end_time": "2024-06-07T09:21:52.030133Z",
     "start_time": "2024-06-07T09:21:52.027453Z"
    }
   },
   "execution_count": 25,
   "outputs": [
    {
     "data": {
      "text/plain": "['Hello', ' World!']"
     },
     "execution_count": 25,
     "metadata": {},
     "output_type": "execute_result"
    }
   ]
  },
  {
   "cell_type": "markdown",
   "source": [
    "### Concatenation\n",
    "Concatenate or combine two string using `+` operator."
   ],
   "metadata": {
    "id": "hZnb8jVnpg3l"
   }
  },
  {
   "cell_type": "code",
   "source": [
    "first_part = 'To be'\n",
    "second_part = 'or not to be.'\n",
    "full_string = first_part + ' '+ second_part\n",
    "full_string"
   ],
   "metadata": {
    "colab": {
     "base_uri": "https://localhost:8080/",
     "height": 36
    },
    "id": "dBKIKhONom0A",
    "executionInfo": {
     "status": "ok",
     "timestamp": 1717751658145,
     "user_tz": -360,
     "elapsed": 33,
     "user": {
      "displayName": "",
      "userId": ""
     }
    },
    "outputId": "6a6ad99a-691c-4a0e-b6c9-bab2caf4fdfc",
    "ExecuteTime": {
     "end_time": "2024-06-07T09:21:52.096665Z",
     "start_time": "2024-06-07T09:21:52.092248Z"
    }
   },
   "execution_count": 26,
   "outputs": [
    {
     "data": {
      "text/plain": "'To be or not to be.'"
     },
     "execution_count": 26,
     "metadata": {},
     "output_type": "execute_result"
    }
   ]
  },
  {
   "cell_type": "markdown",
   "source": [
    "### Format Strings\n",
    "using `f-strings` or `format()` method."
   ],
   "metadata": {
    "id": "fh1zGW_9rG5S"
   }
  },
  {
   "cell_type": "code",
   "source": [
    "name = 'Alice'\n",
    "age = 30\n",
    "city = 'Wonderland'"
   ],
   "metadata": {
    "id": "gvxT2Va3qh_Z",
    "executionInfo": {
     "status": "ok",
     "timestamp": 1717751658145,
     "user_tz": -360,
     "elapsed": 32,
     "user": {
      "displayName": "",
      "userId": ""
     }
    },
    "ExecuteTime": {
     "end_time": "2024-06-07T09:21:52.132082Z",
     "start_time": "2024-06-07T09:21:52.130113Z"
    }
   },
   "execution_count": 27,
   "outputs": []
  },
  {
   "cell_type": "code",
   "source": [
    "formatted_string = 'My name is {}. I am {} years old and I live in {}.'.format(name, age, city)\n",
    "formatted_string"
   ],
   "metadata": {
    "colab": {
     "base_uri": "https://localhost:8080/",
     "height": 36
    },
    "id": "lkwXnig5rzQY",
    "executionInfo": {
     "status": "ok",
     "timestamp": 1717751658145,
     "user_tz": -360,
     "elapsed": 32,
     "user": {
      "displayName": "",
      "userId": ""
     }
    },
    "outputId": "50b2ab2b-17ef-46bf-b8fc-ede96d4484e0",
    "ExecuteTime": {
     "end_time": "2024-06-07T09:21:52.174940Z",
     "start_time": "2024-06-07T09:21:52.172107Z"
    }
   },
   "execution_count": 28,
   "outputs": [
    {
     "data": {
      "text/plain": "'My name is Alice. I am 30 years old and I live in Wonderland.'"
     },
     "execution_count": 28,
     "metadata": {},
     "output_type": "execute_result"
    }
   ]
  },
  {
   "cell_type": "code",
   "source": [
    "formatted_string = f'My name is {name}. I am {age} years old and I live in {city}.'\n",
    "formatted_string"
   ],
   "metadata": {
    "colab": {
     "base_uri": "https://localhost:8080/",
     "height": 36
    },
    "id": "kuX-iM6PsJRj",
    "executionInfo": {
     "status": "ok",
     "timestamp": 1717751658145,
     "user_tz": -360,
     "elapsed": 31,
     "user": {
      "displayName": "",
      "userId": ""
     }
    },
    "outputId": "c75babe8-85dd-4e6b-b021-8d9549c315d3",
    "ExecuteTime": {
     "end_time": "2024-06-07T09:21:52.204507Z",
     "start_time": "2024-06-07T09:21:52.201122Z"
    }
   },
   "execution_count": 29,
   "outputs": [
    {
     "data": {
      "text/plain": "'My name is Alice. I am 30 years old and I live in Wonderland.'"
     },
     "execution_count": 29,
     "metadata": {},
     "output_type": "execute_result"
    }
   ]
  },
  {
   "cell_type": "markdown",
   "source": [
    "### Escape Characters"
   ],
   "metadata": {
    "id": "OalA4JLrtIQO"
   }
  },
  {
   "cell_type": "markdown",
   "source": [
    "**single quote escape character**"
   ],
   "metadata": {
    "id": "9_kTxmF44Vbz"
   }
  },
  {
   "cell_type": "code",
   "source": [
    "sentence_with_single_quote = 'It\\'s a beautiful day!'\n",
    "print(sentence_with_single_quote)"
   ],
   "metadata": {
    "colab": {
     "base_uri": "https://localhost:8080/"
    },
    "id": "6GLj0zKA4bIh",
    "executionInfo": {
     "status": "ok",
     "timestamp": 1717751658145,
     "user_tz": -360,
     "elapsed": 31,
     "user": {
      "displayName": "",
      "userId": ""
     }
    },
    "outputId": "71f852e1-c0e5-47d5-a915-1fe499b7d6ab",
    "ExecuteTime": {
     "end_time": "2024-06-07T09:21:52.269095Z",
     "start_time": "2024-06-07T09:21:52.265864Z"
    }
   },
   "execution_count": 30,
   "outputs": [
    {
     "name": "stdout",
     "output_type": "stream",
     "text": [
      "It's a beautiful day!\n"
     ]
    }
   ]
  },
  {
   "cell_type": "markdown",
   "source": [
    "**new line escape character**"
   ],
   "metadata": {
    "id": "ns6VGhi95DiI"
   }
  },
  {
   "cell_type": "code",
   "source": [
    "sentence_with_new_line = 'Hello,\\nWelcome to the party!'\n",
    "print(sentence_with_new_line)"
   ],
   "metadata": {
    "colab": {
     "base_uri": "https://localhost:8080/"
    },
    "id": "h89MClZr5I7V",
    "executionInfo": {
     "status": "ok",
     "timestamp": 1717751658145,
     "user_tz": -360,
     "elapsed": 29,
     "user": {
      "displayName": "",
      "userId": ""
     }
    },
    "outputId": "385b148c-1777-4672-ff3e-867d3b1ea455",
    "ExecuteTime": {
     "end_time": "2024-06-07T09:21:52.290163Z",
     "start_time": "2024-06-07T09:21:52.288448Z"
    }
   },
   "execution_count": 31,
   "outputs": [
    {
     "name": "stdout",
     "output_type": "stream",
     "text": [
      "Hello,\n",
      "Welcome to the party!\n"
     ]
    }
   ]
  },
  {
   "cell_type": "markdown",
   "source": [
    "**backslash escape character**"
   ],
   "metadata": {
    "id": "PWRMCS4k3QbX"
   }
  },
  {
   "cell_type": "code",
   "source": [
    "sentence_with_backslash = 'This is a backslash: \\\\'\n",
    "print(sentence_with_backslash)"
   ],
   "metadata": {
    "colab": {
     "base_uri": "https://localhost:8080/"
    },
    "id": "aflrs__KsVrF",
    "executionInfo": {
     "status": "ok",
     "timestamp": 1717751658145,
     "user_tz": -360,
     "elapsed": 29,
     "user": {
      "displayName": "",
      "userId": ""
     }
    },
    "outputId": "b4fb712f-412b-4e57-f910-3eb715a20bc8",
    "ExecuteTime": {
     "end_time": "2024-06-07T09:21:52.329126Z",
     "start_time": "2024-06-07T09:21:52.326927Z"
    }
   },
   "execution_count": 32,
   "outputs": [
    {
     "name": "stdout",
     "output_type": "stream",
     "text": [
      "This is a backslash: \\\n"
     ]
    }
   ]
  },
  {
   "cell_type": "markdown",
   "source": [
    "**tab escape character**"
   ],
   "metadata": {
    "id": "zxFsu9L23L7a"
   }
  },
  {
   "cell_type": "code",
   "source": [
    "sentence_with_tab = \"Name:\\tAlice\"\n",
    "print(sentence_with_tab)"
   ],
   "metadata": {
    "colab": {
     "base_uri": "https://localhost:8080/"
    },
    "id": "B1pxt_3LyY39",
    "executionInfo": {
     "status": "ok",
     "timestamp": 1717751658145,
     "user_tz": -360,
     "elapsed": 27,
     "user": {
      "displayName": "",
      "userId": ""
     }
    },
    "outputId": "846d5d43-54e2-4d97-f636-10af7ccc73b4",
    "ExecuteTime": {
     "end_time": "2024-06-07T09:21:52.346545Z",
     "start_time": "2024-06-07T09:21:52.344602Z"
    }
   },
   "execution_count": 33,
   "outputs": [
    {
     "name": "stdout",
     "output_type": "stream",
     "text": [
      "Name:\tAlice\n"
     ]
    }
   ]
  },
  {
   "cell_type": "markdown",
   "source": [
    "### More string methods\n",
    "- [GeeksforGeeks](https://www.geeksforgeeks.org/python-string-methods)\n",
    "- [W3Schools](https://www.w3schools.com/python/python_strings_methods.asp)\n"
   ],
   "metadata": {
    "id": "cB7fJkuY7NbW"
   }
  },
  {
   "cell_type": "markdown",
   "source": [
    "## Booleans\n",
    "- Booleans are a data type that can hold one of two values: `True` or `False`.\n",
    "- Used to represent truth values.\n",
    "- Typically the result of comparisons or logical operations.\n",
    "\n",
    "**Boolean Values**\n",
    "- `True`: Represents a truth value.\n",
    "- `False`: Represents a false value.\n",
    "\n",
    "`0` and `1` are integer values, but they can also be interpreted as boolean values."
   ],
   "metadata": {
    "id": "m3uBUwKx_Gp6"
   }
  },
  {
   "cell_type": "code",
   "source": [
    "is_sunny = True\n",
    "is_raining = False\n",
    "\n",
    "is_sunny, is_raining"
   ],
   "metadata": {
    "colab": {
     "base_uri": "https://localhost:8080/"
    },
    "id": "5jYJ1KqRDayu",
    "executionInfo": {
     "status": "ok",
     "timestamp": 1717751658145,
     "user_tz": -360,
     "elapsed": 26,
     "user": {
      "displayName": "",
      "userId": ""
     }
    },
    "outputId": "d0737e1b-2cd7-4173-cb9d-ba44f45998f2",
    "ExecuteTime": {
     "end_time": "2024-06-07T09:21:52.386257Z",
     "start_time": "2024-06-07T09:21:52.380687Z"
    }
   },
   "execution_count": 34,
   "outputs": [
    {
     "data": {
      "text/plain": "(True, False)"
     },
     "execution_count": 34,
     "metadata": {},
     "output_type": "execute_result"
    }
   ]
  },
  {
   "cell_type": "markdown",
   "source": [
    "### Booleans in Conditions"
   ],
   "metadata": {
    "id": "M-tKGgg0DwO9"
   }
  },
  {
   "cell_type": "code",
   "source": [
    "is_hungry = True\n",
    "\n",
    "if is_hungry:\n",
    "    print(\"Time to eat!\")\n",
    "else:\n",
    "    print(\"Not hungry right now.\")"
   ],
   "metadata": {
    "colab": {
     "base_uri": "https://localhost:8080/"
    },
    "id": "OZ8xUpOFD4a9",
    "executionInfo": {
     "status": "ok",
     "timestamp": 1717751658145,
     "user_tz": -360,
     "elapsed": 25,
     "user": {
      "displayName": "",
      "userId": ""
     }
    },
    "outputId": "91a9e5d0-b896-4ec6-c71d-b10013d89a12",
    "ExecuteTime": {
     "end_time": "2024-06-07T09:21:52.441291Z",
     "start_time": "2024-06-07T09:21:52.438973Z"
    }
   },
   "execution_count": 35,
   "outputs": [
    {
     "name": "stdout",
     "output_type": "stream",
     "text": [
      "Time to eat!\n"
     ]
    }
   ]
  },
  {
   "cell_type": "markdown",
   "source": [
    "### Comparisons Resulting in Booleans"
   ],
   "metadata": {
    "id": "Vl-iqUO7DAGk"
   }
  },
  {
   "cell_type": "code",
   "source": [
    "a = 10\n",
    "b = 20\n",
    "\n",
    "print(a == b)\n",
    "print(a != b)\n",
    "print(a > b)\n",
    "print(a < b)\n",
    "print(a >= b)\n",
    "print(a <= b)"
   ],
   "metadata": {
    "colab": {
     "base_uri": "https://localhost:8080/"
    },
    "id": "tDZuz7mcDEJn",
    "executionInfo": {
     "status": "ok",
     "timestamp": 1717751658145,
     "user_tz": -360,
     "elapsed": 24,
     "user": {
      "displayName": "",
      "userId": ""
     }
    },
    "outputId": "9ef20877-4bea-496c-bfce-2ecb922cbe35",
    "ExecuteTime": {
     "end_time": "2024-06-07T09:21:52.475230Z",
     "start_time": "2024-06-07T09:21:52.472791Z"
    }
   },
   "execution_count": 36,
   "outputs": [
    {
     "name": "stdout",
     "output_type": "stream",
     "text": [
      "False\n",
      "True\n",
      "False\n",
      "True\n",
      "False\n",
      "True\n"
     ]
    }
   ]
  },
  {
   "cell_type": "markdown",
   "source": [
    "### Logical Operations with `0` and `1`"
   ],
   "metadata": {
    "id": "9Rk4PVTQCvnU"
   }
  },
  {
   "cell_type": "code",
   "source": [
    "a = 0\n",
    "b = 1\n",
    "\n",
    "print(a and b)\n",
    "print(a or b)"
   ],
   "metadata": {
    "colab": {
     "base_uri": "https://localhost:8080/"
    },
    "id": "AHqtsc1J-Qi3",
    "executionInfo": {
     "status": "ok",
     "timestamp": 1717751658145,
     "user_tz": -360,
     "elapsed": 23,
     "user": {
      "displayName": "",
      "userId": ""
     }
    },
    "outputId": "1cdcd16d-52ec-4aef-b4ff-0bac98045f0c",
    "ExecuteTime": {
     "end_time": "2024-06-07T09:21:52.555202Z",
     "start_time": "2024-06-07T09:21:52.553107Z"
    }
   },
   "execution_count": 37,
   "outputs": [
    {
     "name": "stdout",
     "output_type": "stream",
     "text": [
      "0\n",
      "1\n"
     ]
    }
   ]
  },
  {
   "cell_type": "markdown",
   "source": [
    "### Integer and Float to Boolean Convertion\n",
    "\n",
    "Any number is `True`, except `0`."
   ],
   "metadata": {
    "id": "nq9-zlZtCR5n"
   }
  },
  {
   "cell_type": "code",
   "source": [
    "bool(0), bool(1), bool(2), bool(20), bool(-100), bool(5.5)"
   ],
   "metadata": {
    "colab": {
     "base_uri": "https://localhost:8080/"
    },
    "id": "ULi-wGZJB-wa",
    "executionInfo": {
     "status": "ok",
     "timestamp": 1717751658145,
     "user_tz": -360,
     "elapsed": 22,
     "user": {
      "displayName": "",
      "userId": ""
     }
    },
    "outputId": "da6533b0-e649-43d6-eef8-f96cf18b69a2",
    "ExecuteTime": {
     "end_time": "2024-06-07T09:21:52.644321Z",
     "start_time": "2024-06-07T09:21:52.641046Z"
    }
   },
   "execution_count": 38,
   "outputs": [
    {
     "data": {
      "text/plain": "(False, True, True, True, True, True)"
     },
     "execution_count": 38,
     "metadata": {},
     "output_type": "execute_result"
    }
   ]
  },
  {
   "cell_type": "markdown",
   "source": [
    "### More Resources\n",
    "- [GeeksforGeeks](https://www.geeksforgeeks.org/boolean-data-type-in-python/)\n",
    "- [W3Schools](https://www.w3schools.com/python/python_booleans.asp)\n",
    "- [Python Booleans: Use Truth Values in Your Code](https://realpython.com/python-boolean/)"
   ],
   "metadata": {
    "id": "3MeBm22-FGSu"
   }
  },
  {
   "cell_type": "markdown",
   "source": [
    "## Conditional Statements\n",
    "Conditional statements allow to execute certain blocks of code based on whether a condition is true or false. They are essential for decision-making in programming.\n",
    "\n",
    "**Types of Conditional Statements**\n",
    "1. if statement\n",
    "2. if-else statement\n",
    "3. if-elif-else statement\n",
    "4. Nested if statements"
   ],
   "metadata": {
    "id": "bwqkSa0VI2jT"
   }
  },
  {
   "cell_type": "markdown",
   "source": [
    "### `if` Statement\n",
    "The statement evaluates a condition and executes the indented block of code if the condition is true.\n",
    "\n",
    "```\n",
    "if condition:\n",
    "    # code block\n",
    "```"
   ],
   "metadata": {
    "id": "ldu7ZObBwTnb"
   }
  },
  {
   "cell_type": "code",
   "source": [
    "age = 18\n",
    "\n",
    "if age >= 18:\n",
    "    print(\"You are an adult.\")"
   ],
   "metadata": {
    "id": "j0jAC3yeCI3K",
    "executionInfo": {
     "status": "ok",
     "timestamp": 1717751658146,
     "user_tz": -360,
     "elapsed": 22,
     "user": {
      "displayName": "",
      "userId": ""
     }
    },
    "colab": {
     "base_uri": "https://localhost:8080/"
    },
    "outputId": "be41b354-338f-4ef1-9cc4-ad2c5380ea33",
    "ExecuteTime": {
     "end_time": "2024-06-07T09:21:52.677406Z",
     "start_time": "2024-06-07T09:21:52.675039Z"
    }
   },
   "execution_count": 39,
   "outputs": [
    {
     "name": "stdout",
     "output_type": "stream",
     "text": [
      "You are an adult.\n"
     ]
    }
   ]
  },
  {
   "cell_type": "markdown",
   "source": [
    "### `if-else` Statement\n",
    "The `else` statement is used to execute a block of code if the condition in the `if` statement is false.\n",
    "```\n",
    "if condition:\n",
    "    # block of code if condition is true\n",
    "else:\n",
    "    # block of code if condition is false\n",
    "\n",
    "```"
   ],
   "metadata": {
    "id": "dvpyLT9h0NwU"
   }
  },
  {
   "cell_type": "code",
   "source": [
    "age = 16\n",
    "if age >= 18:\n",
    "    print(\"You are an adult.\")\n",
    "else:\n",
    "    print(\"You are a minor.\")"
   ],
   "metadata": {
    "colab": {
     "base_uri": "https://localhost:8080/"
    },
    "id": "WzXazlO5xBUJ",
    "executionInfo": {
     "status": "ok",
     "timestamp": 1717751658146,
     "user_tz": -360,
     "elapsed": 21,
     "user": {
      "displayName": "",
      "userId": ""
     }
    },
    "outputId": "9da6c9ab-53b5-4f56-8153-022618c3acaa",
    "ExecuteTime": {
     "end_time": "2024-06-07T09:21:52.716338Z",
     "start_time": "2024-06-07T09:21:52.713925Z"
    }
   },
   "execution_count": 40,
   "outputs": [
    {
     "name": "stdout",
     "output_type": "stream",
     "text": [
      "You are a minor.\n"
     ]
    }
   ]
  },
  {
   "cell_type": "markdown",
   "source": [
    "### `elif` Statement\n",
    "The `if-elif-else` statement allows checking multiple conditions. The first true condition's code block gets executed.\n",
    "\n",
    "```\n",
    "if condition1:\n",
    "    # code block for condition1\n",
    "elif condition2:\n",
    "    # code block for condition2\n",
    "else:\n",
    "    # code block if none of the above conditions are true\n",
    "```"
   ],
   "metadata": {
    "id": "5SfUDpyb0rcC"
   }
  },
  {
   "cell_type": "code",
   "source": [
    "score = 75\n",
    "if score >= 90:\n",
    "    print(\"Grade: A\")\n",
    "elif score >= 80:\n",
    "    print(\"Grade: B\")\n",
    "elif score >= 70:\n",
    "    print(\"Grade: C\")\n",
    "elif score >= 50:\n",
    "    print(\"Grade: D\")\n",
    "else:\n",
    "    print(\"Grade: F\")"
   ],
   "metadata": {
    "colab": {
     "base_uri": "https://localhost:8080/"
    },
    "id": "S5AFFE-j0mdo",
    "executionInfo": {
     "status": "ok",
     "timestamp": 1717751658146,
     "user_tz": -360,
     "elapsed": 20,
     "user": {
      "displayName": "",
      "userId": ""
     }
    },
    "outputId": "245eee52-338e-4784-d2b3-004d7e133033",
    "ExecuteTime": {
     "end_time": "2024-06-07T09:21:52.732100Z",
     "start_time": "2024-06-07T09:21:52.729960Z"
    }
   },
   "execution_count": 41,
   "outputs": [
    {
     "name": "stdout",
     "output_type": "stream",
     "text": [
      "Grade: C\n"
     ]
    }
   ]
  },
  {
   "cell_type": "markdown",
   "source": [
    "### Nested `if` Statements\n",
    " `if`, `elif`, and `else` statements can be nested to create more complex conditions.\n",
    "\n",
    " ```\n",
    "if condition1:\n",
    "    if condition2:\n",
    "        # block of code if condition1 and condition2 are true\n",
    "    else:\n",
    "        # block of code if condition1 is true but condition2 is false\n",
    "else:\n",
    "    # block of code if condition1 is false\n",
    " ```"
   ],
   "metadata": {
    "id": "Aj2gRDEs1tTL"
   }
  },
  {
   "cell_type": "code",
   "source": [
    "num = 10\n",
    "if num > 0:\n",
    "    print(\"The number is positive.\")\n",
    "    if num % 2 == 0:\n",
    "        print(\"The number is even.\")\n",
    "    else:\n",
    "        print(\"The number is odd.\")\n",
    "else:\n",
    "    print(\"The number is negative or zero.\")"
   ],
   "metadata": {
    "colab": {
     "base_uri": "https://localhost:8080/"
    },
    "id": "4S9yFCEJ1WFw",
    "executionInfo": {
     "status": "ok",
     "timestamp": 1717751658146,
     "user_tz": -360,
     "elapsed": 19,
     "user": {
      "displayName": "",
      "userId": ""
     }
    },
    "outputId": "40713408-4347-495a-8c05-5747980fbf32",
    "ExecuteTime": {
     "end_time": "2024-06-07T09:21:52.756296Z",
     "start_time": "2024-06-07T09:21:52.753857Z"
    }
   },
   "execution_count": 42,
   "outputs": [
    {
     "name": "stdout",
     "output_type": "stream",
     "text": [
      "The number is positive.\n",
      "The number is even.\n"
     ]
    }
   ]
  },
  {
   "cell_type": "markdown",
   "source": [
    "**Additional Resources**\n",
    "\n",
    "1. Official Python Documentation: [Control Flow - if statements](https://docs.python.org/3/tutorial/controlflow.html#if-statements)\n",
    "2. Programiz: [Python if...else Statement](https://www.programiz.com/python-programming/if-elif-else)\n",
    "3. Real Python: [Real Python - Conditional Statements](https://realpython.com/python-conditional-statements/)"
   ],
   "metadata": {
    "id": "hOE7N8XR3hNF"
   }
  },
  {
   "cell_type": "markdown",
   "source": [
    "## Loops\n",
    "Loops are used to execute a block of code repeatedly until a certain condition is met. They are essential for automating repetitive tasks.\n",
    "\n",
    "**Types of Loops**\n",
    "1. `for` loop\n",
    "2. `while` loop"
   ],
   "metadata": {
    "id": "l3sxcL606SAW"
   }
  },
  {
   "cell_type": "markdown",
   "source": [
    "### `for` loop\n",
    "The for loop is used to iterate over a sequence (such as a list, tuple, dictionary, set, or string) or other iterable objects."
   ],
   "metadata": {
    "id": "tj5ad4yA8PrX"
   }
  }
 ]
}
