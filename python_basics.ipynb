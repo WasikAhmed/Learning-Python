{
 "nbformat": 4,
 "nbformat_minor": 0,
 "metadata": {
  "colab": {
   "provenance": [],
   "authorship_tag": "ABX9TyNEu8Q42RpVfMLymsVdSX5W"
  },
  "kernelspec": {
   "name": "python3",
   "language": "python",
   "display_name": "Python 3 (ipykernel)"
  },
  "language_info": {
   "name": "python"
  }
 },
 "cells": [
  {
   "cell_type": "markdown",
   "source": [
    "# Python Basics"
   ],
   "metadata": {
    "id": "KqarRX2RfUov"
   }
  },
  {
   "cell_type": "markdown",
   "source": [
    "## Hello world"
   ],
   "metadata": {
    "id": "lOMkC6Wyfmb-"
   }
  },
  {
   "cell_type": "code",
   "source": [
    "print(\"Hello, World!\")"
   ],
   "metadata": {
    "colab": {
     "base_uri": "https://localhost:8080/"
    },
    "id": "4w8pnwqFftMN",
    "executionInfo": {
     "status": "ok",
     "timestamp": 1717654514163,
     "user_tz": -360,
     "elapsed": 83,
     "user": {
      "displayName": "Wasik Ahmed",
      "userId": "15061852987611256962"
     }
    },
    "outputId": "02513efd-8cc7-4a45-cbd5-665a7ef93dc7",
    "ExecuteTime": {
     "end_time": "2024-06-06T06:26:11.903858Z",
     "start_time": "2024-06-06T06:26:11.888597Z"
    }
   },
   "execution_count": 1,
   "outputs": [
    {
     "name": "stdout",
     "output_type": "stream",
     "text": [
      "Hello, World!\n"
     ]
    }
   ]
  },
  {
   "cell_type": "markdown",
   "source": [
    "## Checking python version"
   ],
   "metadata": {
    "id": "NJCouLVrgs29"
   }
  },
  {
   "cell_type": "code",
   "source": [
    "! python3 --version"
   ],
   "metadata": {
    "colab": {
     "base_uri": "https://localhost:8080/"
    },
    "id": "o_Y1xMhVgxuh",
    "executionInfo": {
     "status": "ok",
     "timestamp": 1717654514164,
     "user_tz": -360,
     "elapsed": 74,
     "user": {
      "displayName": "Wasik Ahmed",
      "userId": "15061852987611256962"
     }
    },
    "outputId": "a5f7221e-55ec-4ac6-a725-90c8affce7d4",
    "ExecuteTime": {
     "end_time": "2024-06-06T06:26:12.262280Z",
     "start_time": "2024-06-06T06:26:12.102274Z"
    }
   },
   "execution_count": 2,
   "outputs": [
    {
     "name": "stdout",
     "output_type": "stream",
     "text": [
      "Python 3.11.7\r\n"
     ]
    }
   ]
  },
  {
   "cell_type": "markdown",
   "source": [
    "## Variables\n",
    "Containers for storing data.\n",
    "Don't require to be declared with any particular type."
   ],
   "metadata": {
    "id": "0uy_2n_di4IK"
   }
  },
  {
   "cell_type": "code",
   "source": [
    "x = 10\n",
    "y = 20\n",
    "x, y"
   ],
   "metadata": {
    "colab": {
     "base_uri": "https://localhost:8080/"
    },
    "id": "oP8Bm3p9i6Y7",
    "executionInfo": {
     "status": "ok",
     "timestamp": 1717654514164,
     "user_tz": -360,
     "elapsed": 65,
     "user": {
      "displayName": "Wasik Ahmed",
      "userId": "15061852987611256962"
     }
    },
    "outputId": "93eeb19e-529b-4a5d-c1e2-93eca687eba0",
    "ExecuteTime": {
     "end_time": "2024-06-06T06:26:12.337753Z",
     "start_time": "2024-06-06T06:26:12.325366Z"
    }
   },
   "execution_count": 3,
   "outputs": [
    {
     "data": {
      "text/plain": "(10, 20)"
     },
     "execution_count": 3,
     "metadata": {},
     "output_type": "execute_result"
    }
   ]
  },
  {
   "cell_type": "code",
   "source": [
    "a, b, c = 55, 66, 77\n",
    "a, b, c"
   ],
   "metadata": {
    "colab": {
     "base_uri": "https://localhost:8080/"
    },
    "id": "WX5MYMNhjji2",
    "executionInfo": {
     "status": "ok",
     "timestamp": 1717654514164,
     "user_tz": -360,
     "elapsed": 62,
     "user": {
      "displayName": "Wasik Ahmed",
      "userId": "15061852987611256962"
     }
    },
    "outputId": "8082d821-d544-43fa-e61a-30e9265f5f65",
    "ExecuteTime": {
     "end_time": "2024-06-06T06:26:12.381421Z",
     "start_time": "2024-06-06T06:26:12.376288Z"
    }
   },
   "execution_count": 4,
   "outputs": [
    {
     "data": {
      "text/plain": "(55, 66, 77)"
     },
     "execution_count": 4,
     "metadata": {},
     "output_type": "execute_result"
    }
   ]
  },
  {
   "cell_type": "code",
   "source": [
    "m, n, o= 'Hello', 'w', True\n",
    "m, n, o"
   ],
   "metadata": {
    "colab": {
     "base_uri": "https://localhost:8080/"
    },
    "id": "Q-S17IiDkJxb",
    "executionInfo": {
     "status": "ok",
     "timestamp": 1717654514164,
     "user_tz": -360,
     "elapsed": 61,
     "user": {
      "displayName": "Wasik Ahmed",
      "userId": "15061852987611256962"
     }
    },
    "outputId": "a8643c4b-b86e-4960-c32e-2c2e1219ccfb",
    "ExecuteTime": {
     "end_time": "2024-06-06T06:26:12.439298Z",
     "start_time": "2024-06-06T06:26:12.432302Z"
    }
   },
   "execution_count": 5,
   "outputs": [
    {
     "data": {
      "text/plain": "('Hello', 'w', True)"
     },
     "execution_count": 5,
     "metadata": {},
     "output_type": "execute_result"
    }
   ]
  },
  {
   "cell_type": "markdown",
   "source": [
    "## Data types\n",
    "Built-in data types\n",
    "\n",
    "- Text Type: \tstr\n",
    "- Numeric Types: \tint, float, complex\n",
    "- Sequence Types: \tlist, tuple, range\n",
    "- Mapping Type: \tdict\n",
    "- Set Types: \tset, frozenset\n",
    "- Boolean Type: \tbool\n",
    "- Binary Types: \tbytes, bytearray, memoryview\n",
    "- None Type: \tNoneType"
   ],
   "metadata": {
    "id": "FrkAkkP0kz32"
   }
  },
  {
   "cell_type": "markdown",
   "source": [
    "### Checking data types"
   ],
   "metadata": {
    "id": "YJBUwcI-lvWf"
   }
  },
  {
   "cell_type": "code",
   "source": [
    "a, b, c, d, e, f, g = 'wasik', 5, 2.32, 3+2j, [1, 2, 3], True, None\n",
    "type(a), type(b), type(c), type(d), type(e), type(f), type(g)"
   ],
   "metadata": {
    "colab": {
     "base_uri": "https://localhost:8080/"
    },
    "id": "HCxlG-Gmk3qY",
    "executionInfo": {
     "status": "ok",
     "timestamp": 1717654514165,
     "user_tz": -360,
     "elapsed": 60,
     "user": {
      "displayName": "Wasik Ahmed",
      "userId": "15061852987611256962"
     }
    },
    "outputId": "a4b62803-f844-46f3-bc4c-1a99533c0d4b",
    "ExecuteTime": {
     "end_time": "2024-06-06T06:26:12.477915Z",
     "start_time": "2024-06-06T06:26:12.470974Z"
    }
   },
   "execution_count": 6,
   "outputs": [
    {
     "data": {
      "text/plain": "(str, int, float, complex, list, bool, NoneType)"
     },
     "execution_count": 6,
     "metadata": {},
     "output_type": "execute_result"
    }
   ]
  },
  {
   "cell_type": "markdown",
   "source": [
    "## Numbers\n",
    "There are three numeric types in Python\n",
    "- int\n",
    "- float\n",
    "- complex"
   ],
   "metadata": {
    "id": "WC091Cp8sk-k"
   }
  },
  {
   "cell_type": "code",
   "source": [
    "x = 5\n",
    "y = 6.78\n",
    "z = 5+10j\n",
    "type(x), type(y), type(z)"
   ],
   "metadata": {
    "colab": {
     "base_uri": "https://localhost:8080/"
    },
    "id": "do6BGCBfnafW",
    "executionInfo": {
     "status": "ok",
     "timestamp": 1717654514165,
     "user_tz": -360,
     "elapsed": 59,
     "user": {
      "displayName": "Wasik Ahmed",
      "userId": "15061852987611256962"
     }
    },
    "outputId": "a0f907ae-b514-418a-bc51-673452eb5280",
    "ExecuteTime": {
     "end_time": "2024-06-06T06:26:12.556843Z",
     "start_time": "2024-06-06T06:26:12.552331Z"
    }
   },
   "execution_count": 7,
   "outputs": [
    {
     "data": {
      "text/plain": "(int, float, complex)"
     },
     "execution_count": 7,
     "metadata": {},
     "output_type": "execute_result"
    }
   ]
  },
  {
   "cell_type": "markdown",
   "source": [
    "## Casting\n",
    "Specify a type on to a variable using casting."
   ],
   "metadata": {
    "id": "479Hktaith36"
   }
  },
  {
   "cell_type": "code",
   "source": [
    "a, b, c, d = 3, 5.66, '5', 7+8j"
   ],
   "metadata": {
    "id": "UJkO8kreu-Lo",
    "executionInfo": {
     "status": "ok",
     "timestamp": 1717654514165,
     "user_tz": -360,
     "elapsed": 57,
     "user": {
      "displayName": "Wasik Ahmed",
      "userId": "15061852987611256962"
     }
    },
    "ExecuteTime": {
     "end_time": "2024-06-06T06:26:12.610886Z",
     "start_time": "2024-06-06T06:26:12.608286Z"
    }
   },
   "execution_count": 8,
   "outputs": []
  },
  {
   "cell_type": "markdown",
   "source": [
    "**Integers**"
   ],
   "metadata": {
    "id": "ym434StDt9Js"
   }
  },
  {
   "cell_type": "code",
   "source": [
    "int(a), int(b), int(c)\n",
    "# A complex number cannot be represented as an integer.\n",
    "# int(d) will raise an error"
   ],
   "metadata": {
    "colab": {
     "base_uri": "https://localhost:8080/"
    },
    "id": "VhV1AkdztHd2",
    "executionInfo": {
     "status": "ok",
     "timestamp": 1717654514165,
     "user_tz": -360,
     "elapsed": 57,
     "user": {
      "displayName": "Wasik Ahmed",
      "userId": "15061852987611256962"
     }
    },
    "outputId": "6cb48872-b6c8-40e2-94e5-077f2efd7774",
    "ExecuteTime": {
     "end_time": "2024-06-06T06:26:12.654363Z",
     "start_time": "2024-06-06T06:26:12.651468Z"
    }
   },
   "execution_count": 9,
   "outputs": [
    {
     "data": {
      "text/plain": "(3, 5, 5)"
     },
     "execution_count": 9,
     "metadata": {},
     "output_type": "execute_result"
    }
   ]
  },
  {
   "cell_type": "markdown",
   "source": [
    "**Floats**"
   ],
   "metadata": {
    "id": "_aQWQCIpu31H"
   }
  },
  {
   "cell_type": "code",
   "source": [
    "float(a), float(b), float(c)\n",
    "# A complex number cannot be represented as an float.\n",
    "# float(d) will raise an error"
   ],
   "metadata": {
    "colab": {
     "base_uri": "https://localhost:8080/"
    },
    "id": "agTIEu9uuObs",
    "executionInfo": {
     "status": "ok",
     "timestamp": 1717654514165,
     "user_tz": -360,
     "elapsed": 56,
     "user": {
      "displayName": "Wasik Ahmed",
      "userId": "15061852987611256962"
     }
    },
    "outputId": "f2346cca-f8a6-4ee9-ccb5-2129abdb3d61",
    "ExecuteTime": {
     "end_time": "2024-06-06T06:26:12.669336Z",
     "start_time": "2024-06-06T06:26:12.665668Z"
    }
   },
   "execution_count": 10,
   "outputs": [
    {
     "data": {
      "text/plain": "(3.0, 5.66, 5.0)"
     },
     "execution_count": 10,
     "metadata": {},
     "output_type": "execute_result"
    }
   ]
  },
  {
   "cell_type": "markdown",
   "source": [
    "**Strings**"
   ],
   "metadata": {
    "id": "m14wzd39vM1H"
   }
  },
  {
   "cell_type": "code",
   "source": [
    "str(a), str(b), str(c), str(d)"
   ],
   "metadata": {
    "colab": {
     "base_uri": "https://localhost:8080/"
    },
    "id": "zM0LeAqVvFjQ",
    "executionInfo": {
     "status": "ok",
     "timestamp": 1717654514167,
     "user_tz": -360,
     "elapsed": 56,
     "user": {
      "displayName": "Wasik Ahmed",
      "userId": "15061852987611256962"
     }
    },
    "outputId": "af0e277c-9588-4c10-9403-5f58ac1f380b",
    "ExecuteTime": {
     "end_time": "2024-06-06T06:26:12.680205Z",
     "start_time": "2024-06-06T06:26:12.677653Z"
    }
   },
   "execution_count": 11,
   "outputs": [
    {
     "data": {
      "text/plain": "('3', '5.66', '5', '(7+8j)')"
     },
     "execution_count": 11,
     "metadata": {},
     "output_type": "execute_result"
    }
   ]
  },
  {
   "cell_type": "markdown",
   "source": [
    "## Strings\n",
    "Strings are used for representing textual data. A string is a sequence of characters enclosed in either single quotes ('') or double quotes (“”)."
   ],
   "metadata": {
    "id": "WBZVqIeHwDN0"
   }
  },
  {
   "cell_type": "code",
   "source": [
    "string = \"This is a string\"\n",
    "string"
   ],
   "metadata": {
    "colab": {
     "base_uri": "https://localhost:8080/",
     "height": 36
    },
    "id": "6tTGB8UsvYWz",
    "executionInfo": {
     "status": "ok",
     "timestamp": 1717654514167,
     "user_tz": -360,
     "elapsed": 55,
     "user": {
      "displayName": "Wasik Ahmed",
      "userId": "15061852987611256962"
     }
    },
    "outputId": "e66a592f-9534-4dfe-ffc7-b170a90e51d6",
    "ExecuteTime": {
     "end_time": "2024-06-06T06:26:12.714067Z",
     "start_time": "2024-06-06T06:26:12.710495Z"
    }
   },
   "execution_count": 12,
   "outputs": [
    {
     "data": {
      "text/plain": "'This is a string'"
     },
     "execution_count": 12,
     "metadata": {},
     "output_type": "execute_result"
    }
   ]
  },
  {
   "cell_type": "markdown",
   "source": [
    "**Multiline Strings**\n",
    "\n",
    "Triple quote marks “”\" or ''' creates multi-line strings."
   ],
   "metadata": {
    "id": "qBCFIceLwpFJ"
   }
  },
  {
   "cell_type": "code",
   "source": [
    "multiline_string = \"\"\"This is a\n",
    "multiline\n",
    "string\n",
    "\"\"\"\n",
    "multiline_string"
   ],
   "metadata": {
    "colab": {
     "base_uri": "https://localhost:8080/",
     "height": 36
    },
    "id": "RIzRtF_wwame",
    "executionInfo": {
     "status": "ok",
     "timestamp": 1717654514167,
     "user_tz": -360,
     "elapsed": 53,
     "user": {
      "displayName": "Wasik Ahmed",
      "userId": "15061852987611256962"
     }
    },
    "outputId": "d213a0e3-3c66-4579-c1ce-cbae3e06fcac",
    "ExecuteTime": {
     "end_time": "2024-06-06T06:26:12.736679Z",
     "start_time": "2024-06-06T06:26:12.727309Z"
    }
   },
   "execution_count": 13,
   "outputs": [
    {
     "data": {
      "text/plain": "'This is a\\nmultiline\\nstring\\n'"
     },
     "execution_count": 13,
     "metadata": {},
     "output_type": "execute_result"
    }
   ]
  },
  {
   "cell_type": "markdown",
   "source": [
    "**Looping Through a String**"
   ],
   "metadata": {
    "id": "IQHDON_dxWn3"
   }
  },
  {
   "cell_type": "code",
   "source": [
    "string = 'string'\n",
    "for char in string:\n",
    "    print(char)"
   ],
   "metadata": {
    "colab": {
     "base_uri": "https://localhost:8080/"
    },
    "id": "s8pOKXf4xKB0",
    "executionInfo": {
     "status": "ok",
     "timestamp": 1717654514167,
     "user_tz": -360,
     "elapsed": 52,
     "user": {
      "displayName": "Wasik Ahmed",
      "userId": "15061852987611256962"
     }
    },
    "outputId": "fc8bef69-9fd3-440b-a403-6ddca1639ec6",
    "ExecuteTime": {
     "end_time": "2024-06-06T06:26:12.752891Z",
     "start_time": "2024-06-06T06:26:12.749408Z"
    }
   },
   "execution_count": 14,
   "outputs": [
    {
     "name": "stdout",
     "output_type": "stream",
     "text": [
      "s\n",
      "t\n",
      "r\n",
      "i\n",
      "n\n",
      "g\n"
     ]
    }
   ]
  },
  {
   "cell_type": "markdown",
   "source": [
    "**String Length**\n",
    "\n",
    "`len()` function returns the length of a string."
   ],
   "metadata": {
    "id": "6JYDYqf3xlBY"
   }
  },
  {
   "cell_type": "code",
   "source": [
    "string = \"Hello, World!\"\n",
    "len(string)"
   ],
   "metadata": {
    "colab": {
     "base_uri": "https://localhost:8080/"
    },
    "id": "ld5w6Dj_xgwQ",
    "executionInfo": {
     "status": "ok",
     "timestamp": 1717654514167,
     "user_tz": -360,
     "elapsed": 50,
     "user": {
      "displayName": "Wasik Ahmed",
      "userId": "15061852987611256962"
     }
    },
    "outputId": "cbbf223d-36eb-438d-8abf-674560467222",
    "ExecuteTime": {
     "end_time": "2024-06-06T06:26:12.861525Z",
     "start_time": "2024-06-06T06:26:12.858053Z"
    }
   },
   "execution_count": 15,
   "outputs": [
    {
     "data": {
      "text/plain": "13"
     },
     "execution_count": 15,
     "metadata": {},
     "output_type": "execute_result"
    }
   ]
  },
  {
   "cell_type": "markdown",
   "source": [
    "### Slicing\n",
    "\n",
    "`string[start:stop:step]`"
   ],
   "metadata": {
    "id": "2TGK0lcDyeda"
   }
  },
  {
   "cell_type": "code",
   "source": [
    "s = \"Python is fun!!!\""
   ],
   "metadata": {
    "id": "kl_JC0hoyOmJ",
    "executionInfo": {
     "status": "ok",
     "timestamp": 1717654514167,
     "user_tz": -360,
     "elapsed": 49,
     "user": {
      "displayName": "Wasik Ahmed",
      "userId": "15061852987611256962"
     }
    },
    "ExecuteTime": {
     "end_time": "2024-06-06T06:26:12.960575Z",
     "start_time": "2024-06-06T06:26:12.958035Z"
    }
   },
   "execution_count": 16,
   "outputs": []
  },
  {
   "cell_type": "markdown",
   "source": [
    "**Slice From the Start**"
   ],
   "metadata": {
    "id": "vpHYCj3MzVNB"
   }
  },
  {
   "cell_type": "code",
   "source": [
    "s[:6]"
   ],
   "metadata": {
    "colab": {
     "base_uri": "https://localhost:8080/",
     "height": 36
    },
    "id": "OPfKEot_zr07",
    "executionInfo": {
     "status": "ok",
     "timestamp": 1717654514168,
     "user_tz": -360,
     "elapsed": 50,
     "user": {
      "displayName": "Wasik Ahmed",
      "userId": "15061852987611256962"
     }
    },
    "outputId": "ddad3f65-2b09-423e-c517-00a96a15923a",
    "ExecuteTime": {
     "end_time": "2024-06-06T06:26:13.009421Z",
     "start_time": "2024-06-06T06:26:13.003054Z"
    }
   },
   "execution_count": 17,
   "outputs": [
    {
     "data": {
      "text/plain": "'Python'"
     },
     "execution_count": 17,
     "metadata": {},
     "output_type": "execute_result"
    }
   ]
  },
  {
   "cell_type": "markdown",
   "source": [
    "**Slice To the End**"
   ],
   "metadata": {
    "id": "3LRvwGCpz6F9"
   }
  },
  {
   "cell_type": "code",
   "source": [
    "s[7:]"
   ],
   "metadata": {
    "colab": {
     "base_uri": "https://localhost:8080/",
     "height": 36
    },
    "id": "FRJHdc7Ryw9L",
    "executionInfo": {
     "status": "ok",
     "timestamp": 1717654514168,
     "user_tz": -360,
     "elapsed": 49,
     "user": {
      "displayName": "Wasik Ahmed",
      "userId": "15061852987611256962"
     }
    },
    "outputId": "a9edb898-8bf8-4550-9cad-7450f41e682b",
    "ExecuteTime": {
     "end_time": "2024-06-06T06:26:13.143651Z",
     "start_time": "2024-06-06T06:26:13.134576Z"
    }
   },
   "execution_count": 18,
   "outputs": [
    {
     "data": {
      "text/plain": "'is fun!!!'"
     },
     "execution_count": 18,
     "metadata": {},
     "output_type": "execute_result"
    }
   ]
  },
  {
   "cell_type": "markdown",
   "source": [
    "**Negative Indexing**"
   ],
   "metadata": {
    "id": "WEazyGXkz_z0"
   }
  },
  {
   "cell_type": "code",
   "source": [
    "s[:-3]"
   ],
   "metadata": {
    "colab": {
     "base_uri": "https://localhost:8080/",
     "height": 36
    },
    "id": "z_m-SWlYzekT",
    "executionInfo": {
     "status": "ok",
     "timestamp": 1717654514168,
     "user_tz": -360,
     "elapsed": 49,
     "user": {
      "displayName": "Wasik Ahmed",
      "userId": "15061852987611256962"
     }
    },
    "outputId": "dcd7a2d2-0191-4ca6-b886-7eff6c29cc36",
    "ExecuteTime": {
     "end_time": "2024-06-06T06:26:13.226084Z",
     "start_time": "2024-06-06T06:26:13.215293Z"
    }
   },
   "execution_count": 19,
   "outputs": [
    {
     "data": {
      "text/plain": "'Python is fun'"
     },
     "execution_count": 19,
     "metadata": {},
     "output_type": "execute_result"
    }
   ]
  },
  {
   "cell_type": "markdown",
   "source": [
    "### Modify Strings"
   ],
   "metadata": {
    "id": "bOFuPOkz1C9B"
   }
  },
  {
   "cell_type": "markdown",
   "source": [
    "**Upper Case**"
   ],
   "metadata": {
    "id": "fDska9Iv1cYY"
   }
  },
  {
   "cell_type": "code",
   "source": [
    "string = 'Hello, World!'\n",
    "string.upper()"
   ],
   "metadata": {
    "colab": {
     "base_uri": "https://localhost:8080/",
     "height": 36
    },
    "id": "IgqB3zVy0hG7",
    "executionInfo": {
     "status": "ok",
     "timestamp": 1717654514168,
     "user_tz": -360,
     "elapsed": 48,
     "user": {
      "displayName": "Wasik Ahmed",
      "userId": "15061852987611256962"
     }
    },
    "outputId": "dce13421-b5eb-41a8-e6db-1d2cf4d61758",
    "ExecuteTime": {
     "end_time": "2024-06-06T06:26:13.354066Z",
     "start_time": "2024-06-06T06:26:13.347083Z"
    }
   },
   "execution_count": 20,
   "outputs": [
    {
     "data": {
      "text/plain": "'HELLO, WORLD!'"
     },
     "execution_count": 20,
     "metadata": {},
     "output_type": "execute_result"
    }
   ]
  },
  {
   "cell_type": "markdown",
   "source": [
    "**Lower Case**"
   ],
   "metadata": {
    "id": "3Lb0dw_916Zo"
   }
  },
  {
   "cell_type": "code",
   "source": [
    "string = 'Hello, World!'\n",
    "string.lower()"
   ],
   "metadata": {
    "colab": {
     "base_uri": "https://localhost:8080/",
     "height": 36
    },
    "id": "cN6FGXn_13pd",
    "executionInfo": {
     "status": "ok",
     "timestamp": 1717654514168,
     "user_tz": -360,
     "elapsed": 48,
     "user": {
      "displayName": "Wasik Ahmed",
      "userId": "15061852987611256962"
     }
    },
    "outputId": "fee021cb-0ffa-4d4b-a5f2-0c868f74a56d",
    "ExecuteTime": {
     "end_time": "2024-06-06T06:26:13.540229Z",
     "start_time": "2024-06-06T06:26:13.529955Z"
    }
   },
   "execution_count": 21,
   "outputs": [
    {
     "data": {
      "text/plain": "'hello, world!'"
     },
     "execution_count": 21,
     "metadata": {},
     "output_type": "execute_result"
    }
   ]
  },
  {
   "cell_type": "markdown",
   "source": [
    "**Capitalize**"
   ],
   "metadata": {
    "id": "MCdrbd812Gic"
   }
  },
  {
   "cell_type": "code",
   "source": [
    "string = 'this is capitalized string!'\n",
    "string.capitalize()"
   ],
   "metadata": {
    "colab": {
     "base_uri": "https://localhost:8080/",
     "height": 36
    },
    "id": "1UGrSlRE2BFh",
    "executionInfo": {
     "status": "ok",
     "timestamp": 1717654514168,
     "user_tz": -360,
     "elapsed": 47,
     "user": {
      "displayName": "Wasik Ahmed",
      "userId": "15061852987611256962"
     }
    },
    "outputId": "44a712af-5660-45b5-ae24-663b946a1832",
    "ExecuteTime": {
     "end_time": "2024-06-06T06:26:13.604738Z",
     "start_time": "2024-06-06T06:26:13.601558Z"
    }
   },
   "execution_count": 22,
   "outputs": [
    {
     "data": {
      "text/plain": "'This is capitalized string!'"
     },
     "execution_count": 22,
     "metadata": {},
     "output_type": "execute_result"
    }
   ]
  },
  {
   "cell_type": "markdown",
   "source": [
    "**Remove Whitespace**"
   ],
   "metadata": {
    "id": "Lu2j77ZV2ie9"
   }
  },
  {
   "cell_type": "code",
   "source": [
    "string = \"   Hello, World!   \"\n",
    "string.strip()"
   ],
   "metadata": {
    "colab": {
     "base_uri": "https://localhost:8080/",
     "height": 36
    },
    "id": "UoPj6d8B2T45",
    "executionInfo": {
     "status": "ok",
     "timestamp": 1717654514168,
     "user_tz": -360,
     "elapsed": 47,
     "user": {
      "displayName": "Wasik Ahmed",
      "userId": "15061852987611256962"
     }
    },
    "outputId": "620cb853-5691-49dc-daae-100d8ffffbe0",
    "ExecuteTime": {
     "end_time": "2024-06-06T06:26:13.698051Z",
     "start_time": "2024-06-06T06:26:13.691509Z"
    }
   },
   "execution_count": 23,
   "outputs": [
    {
     "data": {
      "text/plain": "'Hello, World!'"
     },
     "execution_count": 23,
     "metadata": {},
     "output_type": "execute_result"
    }
   ]
  },
  {
   "cell_type": "markdown",
   "source": [
    "**Replace**"
   ],
   "metadata": {
    "id": "HtfxcSld2yYJ"
   }
  },
  {
   "cell_type": "code",
   "source": [
    "string = 'Hello, World!'\n",
    "string.replace('H', 'J')"
   ],
   "metadata": {
    "colab": {
     "base_uri": "https://localhost:8080/",
     "height": 36
    },
    "id": "0Ew62Gen2qTc",
    "executionInfo": {
     "status": "ok",
     "timestamp": 1717654514173,
     "user_tz": -360,
     "elapsed": 51,
     "user": {
      "displayName": "Wasik Ahmed",
      "userId": "15061852987611256962"
     }
    },
    "outputId": "bd98aa66-dc65-4e79-d722-dfc322799e74",
    "ExecuteTime": {
     "end_time": "2024-06-06T06:26:13.739816Z",
     "start_time": "2024-06-06T06:26:13.734301Z"
    }
   },
   "execution_count": 24,
   "outputs": [
    {
     "data": {
      "text/plain": "'Jello, World!'"
     },
     "execution_count": 24,
     "metadata": {},
     "output_type": "execute_result"
    }
   ]
  },
  {
   "cell_type": "markdown",
   "source": [
    "**Split**"
   ],
   "metadata": {
    "id": "74DGOuaT3CbM"
   }
  },
  {
   "cell_type": "code",
   "source": [
    "string = 'Hello, World!'\n",
    "string.split(',')"
   ],
   "metadata": {
    "colab": {
     "base_uri": "https://localhost:8080/"
    },
    "id": "y_U_n3NX26XM",
    "executionInfo": {
     "status": "ok",
     "timestamp": 1717654514173,
     "user_tz": -360,
     "elapsed": 51,
     "user": {
      "displayName": "Wasik Ahmed",
      "userId": "15061852987611256962"
     }
    },
    "outputId": "7678caa9-4780-4fc2-b6fc-edfdae49a8cb",
    "ExecuteTime": {
     "end_time": "2024-06-06T06:26:14.078423Z",
     "start_time": "2024-06-06T06:26:14.045390Z"
    }
   },
   "execution_count": 25,
   "outputs": [
    {
     "data": {
      "text/plain": "['Hello', ' World!']"
     },
     "execution_count": 25,
     "metadata": {},
     "output_type": "execute_result"
    }
   ]
  },
  {
   "cell_type": "markdown",
   "source": [
    "### Concatenation\n",
    "Concatenate or combine two string using `+` operator."
   ],
   "metadata": {
    "id": "hZnb8jVnpg3l"
   }
  },
  {
   "cell_type": "code",
   "source": [
    "first_part = 'To be'\n",
    "second_part = 'or not to be.'\n",
    "full_string = first_part + ' '+ second_part\n",
    "full_string"
   ],
   "metadata": {
    "colab": {
     "base_uri": "https://localhost:8080/",
     "height": 36
    },
    "id": "dBKIKhONom0A",
    "executionInfo": {
     "status": "ok",
     "timestamp": 1717654514174,
     "user_tz": -360,
     "elapsed": 50,
     "user": {
      "displayName": "Wasik Ahmed",
      "userId": "15061852987611256962"
     }
    },
    "outputId": "bed47604-5b0f-42c7-b4a0-8a5cffb9bb1d",
    "ExecuteTime": {
     "end_time": "2024-06-06T06:26:14.141024Z",
     "start_time": "2024-06-06T06:26:14.136647Z"
    }
   },
   "execution_count": 26,
   "outputs": [
    {
     "data": {
      "text/plain": "'To be or not to be.'"
     },
     "execution_count": 26,
     "metadata": {},
     "output_type": "execute_result"
    }
   ]
  },
  {
   "cell_type": "markdown",
   "source": [
    "### Format Strings\n",
    "using `f-strings` or `format()` method."
   ],
   "metadata": {
    "id": "fh1zGW_9rG5S"
   }
  },
  {
   "cell_type": "code",
   "source": [
    "name = 'Alice'\n",
    "age = 30\n",
    "city = 'Wonderland'"
   ],
   "metadata": {
    "id": "gvxT2Va3qh_Z",
    "executionInfo": {
     "status": "ok",
     "timestamp": 1717654514174,
     "user_tz": -360,
     "elapsed": 49,
     "user": {
      "displayName": "Wasik Ahmed",
      "userId": "15061852987611256962"
     }
    },
    "ExecuteTime": {
     "end_time": "2024-06-06T06:26:14.350786Z",
     "start_time": "2024-06-06T06:26:14.340787Z"
    }
   },
   "execution_count": 27,
   "outputs": []
  },
  {
   "cell_type": "code",
   "source": [
    "formatted_string = 'My name is {}. I am {} years old and I live in {}.'.format(name, age, city)\n",
    "formatted_string"
   ],
   "metadata": {
    "colab": {
     "base_uri": "https://localhost:8080/",
     "height": 36
    },
    "id": "lkwXnig5rzQY",
    "executionInfo": {
     "status": "ok",
     "timestamp": 1717654514174,
     "user_tz": -360,
     "elapsed": 49,
     "user": {
      "displayName": "Wasik Ahmed",
      "userId": "15061852987611256962"
     }
    },
    "outputId": "500717b2-dd37-4f12-cc2e-31edd608fb44",
    "ExecuteTime": {
     "end_time": "2024-06-06T06:26:14.457378Z",
     "start_time": "2024-06-06T06:26:14.449136Z"
    }
   },
   "execution_count": 28,
   "outputs": [
    {
     "data": {
      "text/plain": "'My name is Alice. I am 30 years old and I live in Wonderland.'"
     },
     "execution_count": 28,
     "metadata": {},
     "output_type": "execute_result"
    }
   ]
  },
  {
   "cell_type": "code",
   "source": [
    "formatted_string = f'My name is {name}. I am {age} years old and I live in {city}.'\n",
    "formatted_string"
   ],
   "metadata": {
    "colab": {
     "base_uri": "https://localhost:8080/",
     "height": 36
    },
    "id": "kuX-iM6PsJRj",
    "executionInfo": {
     "status": "ok",
     "timestamp": 1717654514174,
     "user_tz": -360,
     "elapsed": 49,
     "user": {
      "displayName": "Wasik Ahmed",
      "userId": "15061852987611256962"
     }
    },
    "outputId": "8cc43a47-9700-4c9f-f868-121375bd2502",
    "ExecuteTime": {
     "end_time": "2024-06-06T06:26:14.525365Z",
     "start_time": "2024-06-06T06:26:14.520915Z"
    }
   },
   "execution_count": 29,
   "outputs": [
    {
     "data": {
      "text/plain": "'My name is Alice. I am 30 years old and I live in Wonderland.'"
     },
     "execution_count": 29,
     "metadata": {},
     "output_type": "execute_result"
    }
   ]
  },
  {
   "cell_type": "markdown",
   "source": [
    "### Escape Characters"
   ],
   "metadata": {
    "id": "OalA4JLrtIQO"
   }
  },
  {
   "cell_type": "markdown",
   "source": [
    "**single quote escape character**"
   ],
   "metadata": {
    "id": "9_kTxmF44Vbz"
   }
  },
  {
   "cell_type": "code",
   "source": [
    "sentence_with_single_quote = 'It\\'s a beautiful day!'\n",
    "print(sentence_with_single_quote)"
   ],
   "metadata": {
    "colab": {
     "base_uri": "https://localhost:8080/"
    },
    "id": "6GLj0zKA4bIh",
    "executionInfo": {
     "status": "ok",
     "timestamp": 1717654514174,
     "user_tz": -360,
     "elapsed": 48,
     "user": {
      "displayName": "Wasik Ahmed",
      "userId": "15061852987611256962"
     }
    },
    "outputId": "648d5448-a45d-4312-fe62-386202c4ce4b",
    "ExecuteTime": {
     "end_time": "2024-06-06T06:26:14.619740Z",
     "start_time": "2024-06-06T06:26:14.615346Z"
    }
   },
   "execution_count": 30,
   "outputs": [
    {
     "name": "stdout",
     "output_type": "stream",
     "text": [
      "It's a beautiful day!\n"
     ]
    }
   ]
  },
  {
   "cell_type": "markdown",
   "source": [
    "**new line escape character**"
   ],
   "metadata": {
    "id": "ns6VGhi95DiI"
   }
  },
  {
   "cell_type": "code",
   "source": [
    "sentence_with_new_line = 'Hello,\\nWelcome to the party!'\n",
    "print(sentence_with_new_line)"
   ],
   "metadata": {
    "colab": {
     "base_uri": "https://localhost:8080/"
    },
    "id": "h89MClZr5I7V",
    "executionInfo": {
     "status": "ok",
     "timestamp": 1717654514174,
     "user_tz": -360,
     "elapsed": 47,
     "user": {
      "displayName": "Wasik Ahmed",
      "userId": "15061852987611256962"
     }
    },
    "outputId": "1ae9f2a5-4236-441f-e34a-86973fae5697",
    "ExecuteTime": {
     "end_time": "2024-06-06T06:26:14.660973Z",
     "start_time": "2024-06-06T06:26:14.657186Z"
    }
   },
   "execution_count": 31,
   "outputs": [
    {
     "name": "stdout",
     "output_type": "stream",
     "text": [
      "Hello,\n",
      "Welcome to the party!\n"
     ]
    }
   ]
  },
  {
   "cell_type": "markdown",
   "source": [
    "**backslash escape character**"
   ],
   "metadata": {
    "id": "PWRMCS4k3QbX"
   }
  },
  {
   "cell_type": "code",
   "source": [
    "sentence_with_backslash = 'This is a backslash: \\\\'\n",
    "print(sentence_with_backslash)"
   ],
   "metadata": {
    "colab": {
     "base_uri": "https://localhost:8080/"
    },
    "id": "aflrs__KsVrF",
    "executionInfo": {
     "status": "ok",
     "timestamp": 1717654514174,
     "user_tz": -360,
     "elapsed": 46,
     "user": {
      "displayName": "Wasik Ahmed",
      "userId": "15061852987611256962"
     }
    },
    "outputId": "83d983b9-fdd9-417b-c4a5-ced20ec76d02",
    "ExecuteTime": {
     "end_time": "2024-06-06T06:26:14.742268Z",
     "start_time": "2024-06-06T06:26:14.736179Z"
    }
   },
   "execution_count": 32,
   "outputs": [
    {
     "name": "stdout",
     "output_type": "stream",
     "text": [
      "This is a backslash: \\\n"
     ]
    }
   ]
  },
  {
   "cell_type": "markdown",
   "source": [
    "**tab escape character**"
   ],
   "metadata": {
    "id": "zxFsu9L23L7a"
   }
  },
  {
   "cell_type": "code",
   "source": [
    "sentence_with_tab = \"Name:\\tAlice\"\n",
    "print(sentence_with_tab)"
   ],
   "metadata": {
    "colab": {
     "base_uri": "https://localhost:8080/"
    },
    "id": "B1pxt_3LyY39",
    "executionInfo": {
     "status": "ok",
     "timestamp": 1717654514174,
     "user_tz": -360,
     "elapsed": 44,
     "user": {
      "displayName": "Wasik Ahmed",
      "userId": "15061852987611256962"
     }
    },
    "outputId": "658a1e24-29f0-4d97-ec7b-d26bfea53953",
    "ExecuteTime": {
     "end_time": "2024-06-06T06:26:14.785940Z",
     "start_time": "2024-06-06T06:26:14.780012Z"
    }
   },
   "execution_count": 33,
   "outputs": [
    {
     "name": "stdout",
     "output_type": "stream",
     "text": [
      "Name:\tAlice\n"
     ]
    }
   ]
  },
  {
   "cell_type": "markdown",
   "source": [
    "### More string methods\n",
    "- [GeeksforGeeks](https://www.geeksforgeeks.org/python-string-methods)\n",
    "- [W3Schools](https://www.w3schools.com/python/python_strings_methods.asp)\n"
   ],
   "metadata": {
    "id": "cB7fJkuY7NbW"
   }
  },
  {
   "cell_type": "markdown",
   "source": [
    "## Booleans\n",
    "- Booleans are a data type that can hold one of two values: `True` or `False`.\n",
    "- Used to represent truth values.\n",
    "- Typically the result of comparisons or logical operations.\n",
    "\n",
    "**Boolean Values**\n",
    "- `True`: Represents a truth value.\n",
    "- `False`: Represents a false value.\n",
    "\n",
    "`0` and `1` are integer values, but they can also be interpreted as boolean values."
   ],
   "metadata": {
    "id": "m3uBUwKx_Gp6"
   }
  },
  {
   "cell_type": "code",
   "source": [
    "is_sunny = True\n",
    "is_raining = False\n",
    "\n",
    "is_sunny, is_raining"
   ],
   "metadata": {
    "colab": {
     "base_uri": "https://localhost:8080/"
    },
    "id": "5jYJ1KqRDayu",
    "executionInfo": {
     "status": "ok",
     "timestamp": 1717654514174,
     "user_tz": -360,
     "elapsed": 43,
     "user": {
      "displayName": "Wasik Ahmed",
      "userId": "15061852987611256962"
     }
    },
    "outputId": "79c4b784-a2c0-4d43-b5f8-0a89e8c2b38c",
    "ExecuteTime": {
     "end_time": "2024-06-06T06:26:14.912703Z",
     "start_time": "2024-06-06T06:26:14.907170Z"
    }
   },
   "execution_count": 34,
   "outputs": [
    {
     "data": {
      "text/plain": "(True, False)"
     },
     "execution_count": 34,
     "metadata": {},
     "output_type": "execute_result"
    }
   ]
  },
  {
   "cell_type": "markdown",
   "source": [
    "### Booleans in Conditions"
   ],
   "metadata": {
    "id": "M-tKGgg0DwO9"
   }
  },
  {
   "cell_type": "code",
   "source": [
    "is_hungry = True\n",
    "\n",
    "if is_hungry:\n",
    "    print(\"Time to eat!\")\n",
    "else:\n",
    "    print(\"Not hungry right now.\")"
   ],
   "metadata": {
    "colab": {
     "base_uri": "https://localhost:8080/"
    },
    "id": "OZ8xUpOFD4a9",
    "executionInfo": {
     "status": "ok",
     "timestamp": 1717654514174,
     "user_tz": -360,
     "elapsed": 42,
     "user": {
      "displayName": "Wasik Ahmed",
      "userId": "15061852987611256962"
     }
    },
    "outputId": "99e9e0f0-a0e4-4e94-a2a6-f5e91ba70bcb",
    "ExecuteTime": {
     "end_time": "2024-06-06T06:26:14.957180Z",
     "start_time": "2024-06-06T06:26:14.953773Z"
    }
   },
   "execution_count": 35,
   "outputs": [
    {
     "name": "stdout",
     "output_type": "stream",
     "text": [
      "Time to eat!\n"
     ]
    }
   ]
  },
  {
   "cell_type": "markdown",
   "source": [
    "### Comparisons Resulting in Booleans"
   ],
   "metadata": {
    "id": "Vl-iqUO7DAGk"
   }
  },
  {
   "cell_type": "code",
   "source": [
    "a = 10\n",
    "b = 20\n",
    "\n",
    "print(a == b)\n",
    "print(a != b)\n",
    "print(a > b)\n",
    "print(a < b)\n",
    "print(a >= b)\n",
    "print(a <= b)"
   ],
   "metadata": {
    "colab": {
     "base_uri": "https://localhost:8080/"
    },
    "id": "tDZuz7mcDEJn",
    "executionInfo": {
     "status": "ok",
     "timestamp": 1717654514174,
     "user_tz": -360,
     "elapsed": 41,
     "user": {
      "displayName": "Wasik Ahmed",
      "userId": "15061852987611256962"
     }
    },
    "outputId": "cbaeb8d9-1774-427e-a00a-9ee000dca2ad",
    "ExecuteTime": {
     "end_time": "2024-06-06T06:26:15.143907Z",
     "start_time": "2024-06-06T06:26:15.139387Z"
    }
   },
   "execution_count": 36,
   "outputs": [
    {
     "name": "stdout",
     "output_type": "stream",
     "text": [
      "False\n",
      "True\n",
      "False\n",
      "True\n",
      "False\n",
      "True\n"
     ]
    }
   ]
  },
  {
   "cell_type": "markdown",
   "source": [
    "### Logical Operations with `0` and `1`"
   ],
   "metadata": {
    "id": "9Rk4PVTQCvnU"
   }
  },
  {
   "cell_type": "code",
   "source": [
    "a = 0\n",
    "b = 1\n",
    "\n",
    "print(a and b)\n",
    "print(a or b)"
   ],
   "metadata": {
    "colab": {
     "base_uri": "https://localhost:8080/"
    },
    "id": "AHqtsc1J-Qi3",
    "executionInfo": {
     "status": "ok",
     "timestamp": 1717654514174,
     "user_tz": -360,
     "elapsed": 40,
     "user": {
      "displayName": "Wasik Ahmed",
      "userId": "15061852987611256962"
     }
    },
    "outputId": "4e6b4512-dfce-46d3-dc65-0c7093d0399a",
    "ExecuteTime": {
     "end_time": "2024-06-06T06:26:15.237294Z",
     "start_time": "2024-06-06T06:26:15.234103Z"
    }
   },
   "execution_count": 37,
   "outputs": [
    {
     "name": "stdout",
     "output_type": "stream",
     "text": [
      "0\n",
      "1\n"
     ]
    }
   ]
  },
  {
   "cell_type": "markdown",
   "source": [
    "### Integer and Float to Boolean Convertion\n",
    "\n",
    "Any number is `True`, except `0`."
   ],
   "metadata": {
    "id": "nq9-zlZtCR5n"
   }
  },
  {
   "cell_type": "code",
   "source": [
    "bool(0), bool(1), bool(2), bool(20), bool(-100), bool(5.5)"
   ],
   "metadata": {
    "colab": {
     "base_uri": "https://localhost:8080/"
    },
    "id": "ULi-wGZJB-wa",
    "executionInfo": {
     "status": "ok",
     "timestamp": 1717654514174,
     "user_tz": -360,
     "elapsed": 39,
     "user": {
      "displayName": "Wasik Ahmed",
      "userId": "15061852987611256962"
     }
    },
    "outputId": "5195bb14-74e1-4f3b-a3cd-fdd1afb2a936",
    "ExecuteTime": {
     "end_time": "2024-06-06T06:26:15.368807Z",
     "start_time": "2024-06-06T06:26:15.364319Z"
    }
   },
   "execution_count": 38,
   "outputs": [
    {
     "data": {
      "text/plain": "(False, True, True, True, True, True)"
     },
     "execution_count": 38,
     "metadata": {},
     "output_type": "execute_result"
    }
   ]
  },
  {
   "cell_type": "markdown",
   "source": [
    "### More Resources\n",
    "- [GeeksforGeeks](https://www.geeksforgeeks.org/boolean-data-type-in-python/)\n",
    "- [W3Schools](https://www.w3schools.com/python/python_booleans.asp)\n",
    "- [Python Booleans: Use Truth Values in Your Code](https://realpython.com/python-boolean/)"
   ],
   "metadata": {
    "id": "3MeBm22-FGSu"
   }
  },
  {
   "cell_type": "markdown",
   "source": [
    "## Conditional Statements"
   ],
   "metadata": {
    "id": "bwqkSa0VI2jT"
   }
  },
  {
   "cell_type": "code",
   "source": [],
   "metadata": {
    "id": "j0jAC3yeCI3K",
    "executionInfo": {
     "status": "ok",
     "timestamp": 1717654514175,
     "user_tz": -360,
     "elapsed": 40,
     "user": {
      "displayName": "Wasik Ahmed",
      "userId": "15061852987611256962"
     }
    },
    "ExecuteTime": {
     "end_time": "2024-06-06T06:26:15.467063Z",
     "start_time": "2024-06-06T06:26:15.464980Z"
    }
   },
   "execution_count": 38,
   "outputs": []
  }
 ]
}
