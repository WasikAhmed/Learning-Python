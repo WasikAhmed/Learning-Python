{
  "nbformat": 4,
  "nbformat_minor": 0,
  "metadata": {
    "colab": {
      "provenance": [],
      "toc_visible": true,
      "authorship_tag": "ABX9TyM8Dy7UbbENeC+PEmJA/uHJ",
      "include_colab_link": true
    },
    "kernelspec": {
      "name": "python3",
      "display_name": "Python 3"
    },
    "language_info": {
      "name": "python"
    }
  },
  "cells": [
    {
      "cell_type": "markdown",
      "metadata": {
        "id": "view-in-github",
        "colab_type": "text"
      },
      "source": [
        "<a href=\"https://colab.research.google.com/github/WasikAhmed/Learning-Python/blob/main/python_basics.ipynb\" target=\"_parent\"><img src=\"https://colab.research.google.com/assets/colab-badge.svg\" alt=\"Open In Colab\"/></a>"
      ]
    },
    {
      "cell_type": "markdown",
      "source": [
        "# Python Basics"
      ],
      "metadata": {
        "id": "KqarRX2RfUov"
      }
    },
    {
      "cell_type": "markdown",
      "source": [
        "## Hello world"
      ],
      "metadata": {
        "id": "lOMkC6Wyfmb-"
      }
    },
    {
      "cell_type": "code",
      "source": [
        "print(\"Hello, World!\")"
      ],
      "metadata": {
        "colab": {
          "base_uri": "https://localhost:8080/"
        },
        "id": "4w8pnwqFftMN",
        "outputId": "dff6a3dc-fb21-46d6-f38a-88b5f8b03391"
      },
      "execution_count": 1,
      "outputs": [
        {
          "output_type": "stream",
          "name": "stdout",
          "text": [
            "Hello, World!\n"
          ]
        }
      ]
    },
    {
      "cell_type": "markdown",
      "source": [
        "## Checking python version"
      ],
      "metadata": {
        "id": "NJCouLVrgs29"
      }
    },
    {
      "cell_type": "code",
      "source": [
        "! python3 --version"
      ],
      "metadata": {
        "colab": {
          "base_uri": "https://localhost:8080/"
        },
        "id": "o_Y1xMhVgxuh",
        "outputId": "6881075a-0b44-4de7-8c85-a6c1d465ce62"
      },
      "execution_count": 2,
      "outputs": [
        {
          "output_type": "stream",
          "name": "stdout",
          "text": [
            "Python 3.10.12\n"
          ]
        }
      ]
    },
    {
      "cell_type": "markdown",
      "source": [
        "## Variables\n",
        "Containers for storing data.\n",
        "Don't require to be declared with any particular type."
      ],
      "metadata": {
        "id": "0uy_2n_di4IK"
      }
    },
    {
      "cell_type": "code",
      "source": [
        "x = 10\n",
        "y = 20\n",
        "x, y"
      ],
      "metadata": {
        "colab": {
          "base_uri": "https://localhost:8080/"
        },
        "id": "oP8Bm3p9i6Y7",
        "outputId": "428d0a30-745f-48a6-d67f-1d7fcccb4f1f"
      },
      "execution_count": 3,
      "outputs": [
        {
          "output_type": "execute_result",
          "data": {
            "text/plain": [
              "(10, 20)"
            ]
          },
          "metadata": {},
          "execution_count": 3
        }
      ]
    },
    {
      "cell_type": "code",
      "source": [
        "a, b, c = 55, 66, 77\n",
        "a, b, c"
      ],
      "metadata": {
        "colab": {
          "base_uri": "https://localhost:8080/"
        },
        "id": "WX5MYMNhjji2",
        "outputId": "00b78c22-3b70-4400-b8ce-ed1a13e82eb4"
      },
      "execution_count": 4,
      "outputs": [
        {
          "output_type": "execute_result",
          "data": {
            "text/plain": [
              "(55, 66, 77)"
            ]
          },
          "metadata": {},
          "execution_count": 4
        }
      ]
    },
    {
      "cell_type": "code",
      "source": [
        "m, n, o= 'Wasik', 'w', True\n",
        "m, n, o"
      ],
      "metadata": {
        "colab": {
          "base_uri": "https://localhost:8080/"
        },
        "id": "Q-S17IiDkJxb",
        "outputId": "54151634-b43c-438a-c713-193d21ad4c3e"
      },
      "execution_count": 5,
      "outputs": [
        {
          "output_type": "execute_result",
          "data": {
            "text/plain": [
              "('Wasik', 'w', True)"
            ]
          },
          "metadata": {},
          "execution_count": 5
        }
      ]
    },
    {
      "cell_type": "markdown",
      "source": [
        "## Data types\n",
        "Built-in data types\n",
        "\n",
        "- Text Type: \tstr\n",
        "- Numeric Types: \tint, float, complex\n",
        "- Sequence Types: \tlist, tuple, range\n",
        "- Mapping Type: \tdict\n",
        "- Set Types: \tset, frozenset\n",
        "- Boolean Type: \tbool\n",
        "- Binary Types: \tbytes, bytearray, memoryview\n",
        "- None Type: \tNoneType"
      ],
      "metadata": {
        "id": "FrkAkkP0kz32"
      }
    },
    {
      "cell_type": "markdown",
      "source": [
        "### Checking data types"
      ],
      "metadata": {
        "id": "YJBUwcI-lvWf"
      }
    },
    {
      "cell_type": "code",
      "source": [
        "a, b, c, d, e, f, g = 'wasik', 5, 2.32, 3+2j, [1, 2, 3], True, None\n",
        "type(a), type(b), type(c), type(d), type(e), type(f), type(g)"
      ],
      "metadata": {
        "colab": {
          "base_uri": "https://localhost:8080/"
        },
        "id": "HCxlG-Gmk3qY",
        "outputId": "59729d6c-38a1-47aa-fd80-4b0763673542"
      },
      "execution_count": 6,
      "outputs": [
        {
          "output_type": "execute_result",
          "data": {
            "text/plain": [
              "(str, int, float, complex, list, bool, NoneType)"
            ]
          },
          "metadata": {},
          "execution_count": 6
        }
      ]
    },
    {
      "cell_type": "markdown",
      "source": [
        "## Numbers\n",
        "There are three numeric types in Python\n",
        "- int\n",
        "- float\n",
        "- complex"
      ],
      "metadata": {
        "id": "WC091Cp8sk-k"
      }
    },
    {
      "cell_type": "code",
      "source": [
        "x = 5\n",
        "y = 6.78\n",
        "z = 5+10j\n",
        "type(x), type(y), type(z)"
      ],
      "metadata": {
        "colab": {
          "base_uri": "https://localhost:8080/"
        },
        "id": "do6BGCBfnafW",
        "outputId": "65ce6f0d-0c0e-4afa-f4b7-c0595cf1181d"
      },
      "execution_count": 7,
      "outputs": [
        {
          "output_type": "execute_result",
          "data": {
            "text/plain": [
              "(int, float, complex)"
            ]
          },
          "metadata": {},
          "execution_count": 7
        }
      ]
    },
    {
      "cell_type": "markdown",
      "source": [
        "## Casting\n",
        "Specify a type on to a variable using casting."
      ],
      "metadata": {
        "id": "479Hktaith36"
      }
    },
    {
      "cell_type": "code",
      "source": [
        "a, b, c, d = 3, 5.66, '5', 7+8j"
      ],
      "metadata": {
        "id": "UJkO8kreu-Lo"
      },
      "execution_count": 8,
      "outputs": []
    },
    {
      "cell_type": "markdown",
      "source": [
        "**Integers**"
      ],
      "metadata": {
        "id": "ym434StDt9Js"
      }
    },
    {
      "cell_type": "code",
      "source": [
        "int(a), int(b), int(c)\n",
        "# A complex number cannot be represented as an integer.\n",
        "# int(d) will raise an error"
      ],
      "metadata": {
        "colab": {
          "base_uri": "https://localhost:8080/"
        },
        "id": "VhV1AkdztHd2",
        "outputId": "84e3a858-48fc-4d3d-da1b-5dc4b6ff8257"
      },
      "execution_count": 9,
      "outputs": [
        {
          "output_type": "execute_result",
          "data": {
            "text/plain": [
              "(3, 5, 5)"
            ]
          },
          "metadata": {},
          "execution_count": 9
        }
      ]
    },
    {
      "cell_type": "markdown",
      "source": [
        "**Floats**"
      ],
      "metadata": {
        "id": "_aQWQCIpu31H"
      }
    },
    {
      "cell_type": "code",
      "source": [
        "float(a), float(b), float(c)\n",
        "# A complex number cannot be represented as an float.\n",
        "# float(d) will raise an error"
      ],
      "metadata": {
        "colab": {
          "base_uri": "https://localhost:8080/"
        },
        "id": "agTIEu9uuObs",
        "outputId": "bb10ef52-935d-4258-9368-71d429303349"
      },
      "execution_count": 10,
      "outputs": [
        {
          "output_type": "execute_result",
          "data": {
            "text/plain": [
              "(3.0, 5.66, 5.0)"
            ]
          },
          "metadata": {},
          "execution_count": 10
        }
      ]
    },
    {
      "cell_type": "markdown",
      "source": [
        "**Strings**"
      ],
      "metadata": {
        "id": "m14wzd39vM1H"
      }
    },
    {
      "cell_type": "code",
      "source": [
        "str(a), str(b), str(c), str(d)"
      ],
      "metadata": {
        "colab": {
          "base_uri": "https://localhost:8080/"
        },
        "id": "zM0LeAqVvFjQ",
        "outputId": "de4697b5-aa73-4644-d269-adab624b9c53"
      },
      "execution_count": 11,
      "outputs": [
        {
          "output_type": "execute_result",
          "data": {
            "text/plain": [
              "('3', '5.66', '5', '(7+8j)')"
            ]
          },
          "metadata": {},
          "execution_count": 11
        }
      ]
    },
    {
      "cell_type": "markdown",
      "source": [
        "## Strings\n",
        "Strings are used for representing textual data. A string is a sequence of characters enclosed in either single quotes ('') or double quotes (“”)."
      ],
      "metadata": {
        "id": "WBZVqIeHwDN0"
      }
    },
    {
      "cell_type": "code",
      "source": [
        "string = \"This is a string\"\n",
        "string"
      ],
      "metadata": {
        "colab": {
          "base_uri": "https://localhost:8080/",
          "height": 56
        },
        "id": "6tTGB8UsvYWz",
        "outputId": "12132375-301b-4776-e107-97ce451b80fd"
      },
      "execution_count": 12,
      "outputs": [
        {
          "output_type": "execute_result",
          "data": {
            "text/plain": [
              "'This is a string'"
            ],
            "application/vnd.google.colaboratory.intrinsic+json": {
              "type": "string"
            }
          },
          "metadata": {},
          "execution_count": 12
        }
      ]
    },
    {
      "cell_type": "markdown",
      "source": [
        "**Multiline Strings**\n",
        "\n",
        "Triple quote marks “”\" or ''' create multi-line strings."
      ],
      "metadata": {
        "id": "qBCFIceLwpFJ"
      }
    },
    {
      "cell_type": "code",
      "source": [
        "multiline_string = \"\"\"This is a\n",
        "multiline\n",
        "string\n",
        "\"\"\"\n",
        "multiline_string"
      ],
      "metadata": {
        "colab": {
          "base_uri": "https://localhost:8080/",
          "height": 56
        },
        "id": "RIzRtF_wwame",
        "outputId": "668e2d45-0f35-4738-c482-081088626f48"
      },
      "execution_count": 13,
      "outputs": [
        {
          "output_type": "execute_result",
          "data": {
            "text/plain": [
              "'This is a\\nmultiline\\nstring\\n'"
            ],
            "application/vnd.google.colaboratory.intrinsic+json": {
              "type": "string"
            }
          },
          "metadata": {},
          "execution_count": 13
        }
      ]
    },
    {
      "cell_type": "markdown",
      "source": [
        "**Looping Through a String**"
      ],
      "metadata": {
        "id": "IQHDON_dxWn3"
      }
    },
    {
      "cell_type": "code",
      "source": [
        "string = 'string'\n",
        "for char in string:\n",
        "    print(char)"
      ],
      "metadata": {
        "colab": {
          "base_uri": "https://localhost:8080/"
        },
        "id": "s8pOKXf4xKB0",
        "outputId": "c09485e2-486d-4ec8-fdea-454f6de6715c"
      },
      "execution_count": 14,
      "outputs": [
        {
          "output_type": "stream",
          "name": "stdout",
          "text": [
            "s\n",
            "t\n",
            "r\n",
            "i\n",
            "n\n",
            "g\n"
          ]
        }
      ]
    },
    {
      "cell_type": "markdown",
      "source": [
        "**String Length**\n",
        "\n",
        "`len()` function returns the length of a string."
      ],
      "metadata": {
        "id": "6JYDYqf3xlBY"
      }
    },
    {
      "cell_type": "code",
      "source": [
        "string = \"Hello, World!\"\n",
        "len(string)"
      ],
      "metadata": {
        "colab": {
          "base_uri": "https://localhost:8080/"
        },
        "id": "ld5w6Dj_xgwQ",
        "outputId": "594bf660-6ba7-4240-aa2d-ee58f913c6e3"
      },
      "execution_count": 15,
      "outputs": [
        {
          "output_type": "execute_result",
          "data": {
            "text/plain": [
              "13"
            ]
          },
          "metadata": {},
          "execution_count": 15
        }
      ]
    },
    {
      "cell_type": "markdown",
      "source": [
        "### Slicing\n",
        "\n",
        "`string[start:stop:step]`"
      ],
      "metadata": {
        "id": "2TGK0lcDyeda"
      }
    },
    {
      "cell_type": "code",
      "source": [
        "s = \"Python is fun!!!\""
      ],
      "metadata": {
        "id": "kl_JC0hoyOmJ"
      },
      "execution_count": 16,
      "outputs": []
    },
    {
      "cell_type": "markdown",
      "source": [
        "**Slice From the Start**"
      ],
      "metadata": {
        "id": "vpHYCj3MzVNB"
      }
    },
    {
      "cell_type": "code",
      "source": [
        "s[:6]"
      ],
      "metadata": {
        "colab": {
          "base_uri": "https://localhost:8080/",
          "height": 56
        },
        "id": "OPfKEot_zr07",
        "outputId": "614b8826-01da-41c9-ff4d-85e84fe5d280"
      },
      "execution_count": 17,
      "outputs": [
        {
          "output_type": "execute_result",
          "data": {
            "text/plain": [
              "'Python'"
            ],
            "application/vnd.google.colaboratory.intrinsic+json": {
              "type": "string"
            }
          },
          "metadata": {},
          "execution_count": 17
        }
      ]
    },
    {
      "cell_type": "markdown",
      "source": [
        "**Slice To the End**"
      ],
      "metadata": {
        "id": "3LRvwGCpz6F9"
      }
    },
    {
      "cell_type": "code",
      "source": [
        "s[7:]"
      ],
      "metadata": {
        "colab": {
          "base_uri": "https://localhost:8080/",
          "height": 56
        },
        "id": "FRJHdc7Ryw9L",
        "outputId": "bf1dae27-a2fb-4917-8596-06557fa58dab"
      },
      "execution_count": 18,
      "outputs": [
        {
          "output_type": "execute_result",
          "data": {
            "text/plain": [
              "'is fun!!!'"
            ],
            "application/vnd.google.colaboratory.intrinsic+json": {
              "type": "string"
            }
          },
          "metadata": {},
          "execution_count": 18
        }
      ]
    },
    {
      "cell_type": "markdown",
      "source": [
        "**Negative Indexing**"
      ],
      "metadata": {
        "id": "WEazyGXkz_z0"
      }
    },
    {
      "cell_type": "code",
      "source": [
        "s[:-3]"
      ],
      "metadata": {
        "colab": {
          "base_uri": "https://localhost:8080/",
          "height": 56
        },
        "id": "z_m-SWlYzekT",
        "outputId": "71b89d68-e190-4d3b-b60a-9be20e06900e"
      },
      "execution_count": 19,
      "outputs": [
        {
          "output_type": "execute_result",
          "data": {
            "text/plain": [
              "'Python is fun'"
            ],
            "application/vnd.google.colaboratory.intrinsic+json": {
              "type": "string"
            }
          },
          "metadata": {},
          "execution_count": 19
        }
      ]
    },
    {
      "cell_type": "markdown",
      "source": [
        "### Modify Strings"
      ],
      "metadata": {
        "id": "bOFuPOkz1C9B"
      }
    },
    {
      "cell_type": "markdown",
      "source": [
        "**Upper Case**"
      ],
      "metadata": {
        "id": "fDska9Iv1cYY"
      }
    },
    {
      "cell_type": "code",
      "source": [
        "string = 'Hello, World!'\n",
        "string.upper()"
      ],
      "metadata": {
        "colab": {
          "base_uri": "https://localhost:8080/",
          "height": 56
        },
        "id": "IgqB3zVy0hG7",
        "outputId": "a5440db3-12f1-4742-f58e-524ce1dfdb5d"
      },
      "execution_count": 20,
      "outputs": [
        {
          "output_type": "execute_result",
          "data": {
            "text/plain": [
              "'HELLO, WORLD!'"
            ],
            "application/vnd.google.colaboratory.intrinsic+json": {
              "type": "string"
            }
          },
          "metadata": {},
          "execution_count": 20
        }
      ]
    },
    {
      "cell_type": "markdown",
      "source": [
        "**Lower Case**"
      ],
      "metadata": {
        "id": "3Lb0dw_916Zo"
      }
    },
    {
      "cell_type": "code",
      "source": [
        "string = 'Hello, World!'\n",
        "string.lower()"
      ],
      "metadata": {
        "colab": {
          "base_uri": "https://localhost:8080/",
          "height": 56
        },
        "id": "cN6FGXn_13pd",
        "outputId": "80d948f2-2fe2-4ddf-9749-4420ad11e6e3"
      },
      "execution_count": 21,
      "outputs": [
        {
          "output_type": "execute_result",
          "data": {
            "text/plain": [
              "'hello, world!'"
            ],
            "application/vnd.google.colaboratory.intrinsic+json": {
              "type": "string"
            }
          },
          "metadata": {},
          "execution_count": 21
        }
      ]
    },
    {
      "cell_type": "markdown",
      "source": [
        "**Capitalize**"
      ],
      "metadata": {
        "id": "MCdrbd812Gic"
      }
    },
    {
      "cell_type": "code",
      "source": [
        "string = 'this is capitalized string!'\n",
        "string.capitalize()"
      ],
      "metadata": {
        "colab": {
          "base_uri": "https://localhost:8080/",
          "height": 56
        },
        "id": "1UGrSlRE2BFh",
        "outputId": "f3242c36-424e-423c-ef20-6cfee419637c"
      },
      "execution_count": 22,
      "outputs": [
        {
          "output_type": "execute_result",
          "data": {
            "text/plain": [
              "'This is capitalized string!'"
            ],
            "application/vnd.google.colaboratory.intrinsic+json": {
              "type": "string"
            }
          },
          "metadata": {},
          "execution_count": 22
        }
      ]
    },
    {
      "cell_type": "markdown",
      "source": [
        "**Remove Whitespace**"
      ],
      "metadata": {
        "id": "Lu2j77ZV2ie9"
      }
    },
    {
      "cell_type": "code",
      "source": [
        "string = \"   Hello, World!   \"\n",
        "string.strip()"
      ],
      "metadata": {
        "colab": {
          "base_uri": "https://localhost:8080/",
          "height": 56
        },
        "id": "UoPj6d8B2T45",
        "outputId": "69aff94e-2505-4775-e9de-6a77a4575130"
      },
      "execution_count": 23,
      "outputs": [
        {
          "output_type": "execute_result",
          "data": {
            "text/plain": [
              "'Hello, World!'"
            ],
            "application/vnd.google.colaboratory.intrinsic+json": {
              "type": "string"
            }
          },
          "metadata": {},
          "execution_count": 23
        }
      ]
    },
    {
      "cell_type": "markdown",
      "source": [
        "**Replace**"
      ],
      "metadata": {
        "id": "HtfxcSld2yYJ"
      }
    },
    {
      "cell_type": "code",
      "source": [
        "string = 'Hello, World!'\n",
        "string.replace('H', 'J')"
      ],
      "metadata": {
        "colab": {
          "base_uri": "https://localhost:8080/",
          "height": 56
        },
        "id": "0Ew62Gen2qTc",
        "outputId": "b8159e19-9f8b-42a7-a91a-f046b43df5cf"
      },
      "execution_count": 24,
      "outputs": [
        {
          "output_type": "execute_result",
          "data": {
            "text/plain": [
              "'Jello, World!'"
            ],
            "application/vnd.google.colaboratory.intrinsic+json": {
              "type": "string"
            }
          },
          "metadata": {},
          "execution_count": 24
        }
      ]
    },
    {
      "cell_type": "markdown",
      "source": [
        "**Split**"
      ],
      "metadata": {
        "id": "74DGOuaT3CbM"
      }
    },
    {
      "cell_type": "code",
      "source": [
        "string = 'Hello, World!'\n",
        "string.split(',')"
      ],
      "metadata": {
        "colab": {
          "base_uri": "https://localhost:8080/"
        },
        "id": "y_U_n3NX26XM",
        "outputId": "ac8f629a-75b5-43b0-e0d1-bc24b4db76d8"
      },
      "execution_count": 25,
      "outputs": [
        {
          "output_type": "execute_result",
          "data": {
            "text/plain": [
              "['Hello', ' World!']"
            ]
          },
          "metadata": {},
          "execution_count": 25
        }
      ]
    }
  ]
}